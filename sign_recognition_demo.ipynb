{
 "cells": [
  {
   "cell_type": "markdown",
   "id": "f180a9d2",
   "metadata": {},
   "source": [
    "# Sign Language Recognition Demo\n",
    "\n",
    "This jupyter notebook is a quick Sign Language Recognition Demo. The test data is saved under `data/` and is listed under `lists/`. The trained HMM is stored under `models/`. The videos are being displayed from `videos/`."
   ]
  },
  {
   "cell_type": "code",
   "execution_count": 1,
   "id": "63ec6fc7",
   "metadata": {},
   "outputs": [],
   "source": [
    "%load_ext autoreload\n",
    "%autoreload 2"
   ]
  },
  {
   "cell_type": "markdown",
   "id": "c8b8d5d2",
   "metadata": {},
   "source": [
    "## Feature Extraction Pipeline\n",
    "\n",
    "This part of the notebook covers feature extraction from raw videos. We assume that our raw videos are sourced from the ASL Capture App. This app records whole sessions of the user signing words. Each session consists of 20 signs for 20 different words. The raw video must therefore be split up and then have mediapipe features extracted before we can train the models. The mediapipe features are then converted into HTK features."
   ]
  },
  {
   "cell_type": "markdown",
   "id": "504ec306",
   "metadata": {},
   "source": [
    "### Slicing the Videos\n",
    "\n",
    "To slice the videos, we first add our raw videos to `raw/`. Once this is done, run the `decode.py` script below. You can retrieve a list of signs that whose videos will be extracted without actually extracting them by passing the `only_print_signs` flag. We run it with capture magic, since there is a lot of output. To view the output, remove the magic command."
   ]
  },
  {
   "cell_type": "code",
   "execution_count": 2,
   "id": "f377ec03",
   "metadata": {},
   "outputs": [],
   "source": [
    "%%capture\n",
    "\n",
    "source_dir = 'raw/'\n",
    "dest_dir = 'split/'\n",
    "num_threads = 32\n",
    "\n",
    "%run decode.py --backup_dir $source_dir --dest_dir $dest_dir --num_threads $num_threads"
   ]
  },
  {
   "cell_type": "markdown",
   "id": "23c704e7",
   "metadata": {},
   "source": [
    "We can count the sliced up videos."
   ]
  },
  {
   "cell_type": "code",
   "execution_count": 3,
   "id": "a35dfb80",
   "metadata": {},
   "outputs": [
    {
     "name": "stdout",
     "output_type": "stream",
     "text": [
      "100\n"
     ]
    }
   ],
   "source": [
    "sliced_video_files = !ls split/\n",
    "print(len(sliced_video_files) - 1) # Leave out the error directory"
   ]
  },
  {
   "cell_type": "markdown",
   "id": "6594d2d0",
   "metadata": {},
   "source": [
    "We can also list the sliced up videos. Note the naming convention. The elements in the name are delimited by a hyphen (`-`). The first element is the user ID set in the Capture App. The second element is the word being signed. The third element is the dat and time at which the session was recorded (`YYYY_MM_DD_HH_MM_SS`). The fourth and last element, before the file extension, is the session ID followed by the number of times the sign was recorded in that session (`0` indexed). Ignore the error directory listed."
   ]
  },
  {
   "cell_type": "code",
   "execution_count": 4,
   "id": "93aa98a8",
   "metadata": {
    "scrolled": true
   },
   "outputs": [
    {
     "name": "stdout",
     "output_type": "stream",
     "text": [
      "00001-puzzle-2022_09_19_15_42_00.307-0.mp4\r\n",
      "00001-puzzle-2022_09_19_15_42_00.307-1.mp4\r\n",
      "00001-puzzle-2022_09_19_15_42_00.307-10.mp4\r\n",
      "00001-puzzle-2022_09_19_15_42_00.307-11.mp4\r\n",
      "00001-puzzle-2022_09_19_15_42_00.307-12.mp4\r\n",
      "00001-puzzle-2022_09_19_15_42_00.307-13.mp4\r\n",
      "00001-puzzle-2022_09_19_15_42_00.307-14.mp4\r\n",
      "00001-puzzle-2022_09_19_15_42_00.307-15.mp4\r\n",
      "00001-puzzle-2022_09_19_15_42_00.307-16.mp4\r\n",
      "00001-puzzle-2022_09_19_15_42_00.307-17.mp4\r\n",
      "00001-puzzle-2022_09_19_15_42_00.307-18.mp4\r\n",
      "00001-puzzle-2022_09_19_15_42_00.307-19.mp4\r\n",
      "00001-puzzle-2022_09_19_15_42_00.307-2.mp4\r\n",
      "00001-puzzle-2022_09_19_15_42_00.307-3.mp4\r\n",
      "00001-puzzle-2022_09_19_15_42_00.307-4.mp4\r\n",
      "00001-puzzle-2022_09_19_15_42_00.307-5.mp4\r\n",
      "00001-puzzle-2022_09_19_15_42_00.307-6.mp4\r\n",
      "00001-puzzle-2022_09_19_15_42_00.307-7.mp4\r\n",
      "00001-puzzle-2022_09_19_15_42_00.307-8.mp4\r\n",
      "00001-puzzle-2022_09_19_15_42_00.307-9.mp4\r\n",
      "00001-sleep-2022_09_19_15_42_00.307-0.mp4\r\n",
      "00001-sleep-2022_09_19_15_42_00.307-1.mp4\r\n",
      "00001-sleep-2022_09_19_15_42_00.307-10.mp4\r\n",
      "00001-sleep-2022_09_19_15_42_00.307-11.mp4\r\n",
      "00001-sleep-2022_09_19_15_42_00.307-12.mp4\r\n",
      "00001-sleep-2022_09_19_15_42_00.307-13.mp4\r\n",
      "00001-sleep-2022_09_19_15_42_00.307-14.mp4\r\n",
      "00001-sleep-2022_09_19_15_42_00.307-15.mp4\r\n",
      "00001-sleep-2022_09_19_15_42_00.307-16.mp4\r\n",
      "00001-sleep-2022_09_19_15_42_00.307-17.mp4\r\n",
      "00001-sleep-2022_09_19_15_42_00.307-18.mp4\r\n",
      "00001-sleep-2022_09_19_15_42_00.307-19.mp4\r\n",
      "00001-sleep-2022_09_19_15_42_00.307-2.mp4\r\n",
      "00001-sleep-2022_09_19_15_42_00.307-3.mp4\r\n",
      "00001-sleep-2022_09_19_15_42_00.307-4.mp4\r\n",
      "00001-sleep-2022_09_19_15_42_00.307-5.mp4\r\n",
      "00001-sleep-2022_09_19_15_42_00.307-6.mp4\r\n",
      "00001-sleep-2022_09_19_15_42_00.307-7.mp4\r\n",
      "00001-sleep-2022_09_19_15_42_00.307-8.mp4\r\n",
      "00001-sleep-2022_09_19_15_42_00.307-9.mp4\r\n",
      "00001-talk-2022_09_19_15_42_00.307-0.mp4\r\n",
      "00001-talk-2022_09_19_15_42_00.307-1.mp4\r\n",
      "00001-talk-2022_09_19_15_42_00.307-10.mp4\r\n",
      "00001-talk-2022_09_19_15_42_00.307-11.mp4\r\n",
      "00001-talk-2022_09_19_15_42_00.307-12.mp4\r\n",
      "00001-talk-2022_09_19_15_42_00.307-13.mp4\r\n",
      "00001-talk-2022_09_19_15_42_00.307-14.mp4\r\n",
      "00001-talk-2022_09_19_15_42_00.307-15.mp4\r\n",
      "00001-talk-2022_09_19_15_42_00.307-16.mp4\r\n",
      "00001-talk-2022_09_19_15_42_00.307-17.mp4\r\n",
      "00001-talk-2022_09_19_15_42_00.307-18.mp4\r\n",
      "00001-talk-2022_09_19_15_42_00.307-19.mp4\r\n",
      "00001-talk-2022_09_19_15_42_00.307-2.mp4\r\n",
      "00001-talk-2022_09_19_15_42_00.307-3.mp4\r\n",
      "00001-talk-2022_09_19_15_42_00.307-4.mp4\r\n",
      "00001-talk-2022_09_19_15_42_00.307-5.mp4\r\n",
      "00001-talk-2022_09_19_15_42_00.307-6.mp4\r\n",
      "00001-talk-2022_09_19_15_42_00.307-7.mp4\r\n",
      "00001-talk-2022_09_19_15_42_00.307-8.mp4\r\n",
      "00001-talk-2022_09_19_15_42_00.307-9.mp4\r\n",
      "00001-telephone-2022_09_19_15_42_00.307-0.mp4\r\n",
      "00001-telephone-2022_09_19_15_42_00.307-1.mp4\r\n",
      "00001-telephone-2022_09_19_15_42_00.307-10.mp4\r\n",
      "00001-telephone-2022_09_19_15_42_00.307-11.mp4\r\n",
      "00001-telephone-2022_09_19_15_42_00.307-12.mp4\r\n",
      "00001-telephone-2022_09_19_15_42_00.307-13.mp4\r\n",
      "00001-telephone-2022_09_19_15_42_00.307-14.mp4\r\n",
      "00001-telephone-2022_09_19_15_42_00.307-15.mp4\r\n",
      "00001-telephone-2022_09_19_15_42_00.307-16.mp4\r\n",
      "00001-telephone-2022_09_19_15_42_00.307-17.mp4\r\n",
      "00001-telephone-2022_09_19_15_42_00.307-18.mp4\r\n",
      "00001-telephone-2022_09_19_15_42_00.307-19.mp4\r\n",
      "00001-telephone-2022_09_19_15_42_00.307-2.mp4\r\n",
      "00001-telephone-2022_09_19_15_42_00.307-3.mp4\r\n",
      "00001-telephone-2022_09_19_15_42_00.307-4.mp4\r\n",
      "00001-telephone-2022_09_19_15_42_00.307-5.mp4\r\n",
      "00001-telephone-2022_09_19_15_42_00.307-6.mp4\r\n",
      "00001-telephone-2022_09_19_15_42_00.307-7.mp4\r\n",
      "00001-telephone-2022_09_19_15_42_00.307-8.mp4\r\n",
      "00001-telephone-2022_09_19_15_42_00.307-9.mp4\r\n",
      "00001-tomorrow-2022_09_19_15_42_00.307-0.mp4\r\n",
      "00001-tomorrow-2022_09_19_15_42_00.307-1.mp4\r\n",
      "00001-tomorrow-2022_09_19_15_42_00.307-10.mp4\r\n",
      "00001-tomorrow-2022_09_19_15_42_00.307-11.mp4\r\n",
      "00001-tomorrow-2022_09_19_15_42_00.307-12.mp4\r\n",
      "00001-tomorrow-2022_09_19_15_42_00.307-13.mp4\r\n",
      "00001-tomorrow-2022_09_19_15_42_00.307-14.mp4\r\n",
      "00001-tomorrow-2022_09_19_15_42_00.307-15.mp4\r\n",
      "00001-tomorrow-2022_09_19_15_42_00.307-16.mp4\r\n",
      "00001-tomorrow-2022_09_19_15_42_00.307-17.mp4\r\n",
      "00001-tomorrow-2022_09_19_15_42_00.307-18.mp4\r\n",
      "00001-tomorrow-2022_09_19_15_42_00.307-19.mp4\r\n",
      "00001-tomorrow-2022_09_19_15_42_00.307-2.mp4\r\n",
      "00001-tomorrow-2022_09_19_15_42_00.307-3.mp4\r\n",
      "00001-tomorrow-2022_09_19_15_42_00.307-4.mp4\r\n",
      "00001-tomorrow-2022_09_19_15_42_00.307-5.mp4\r\n",
      "00001-tomorrow-2022_09_19_15_42_00.307-6.mp4\r\n",
      "00001-tomorrow-2022_09_19_15_42_00.307-7.mp4\r\n",
      "00001-tomorrow-2022_09_19_15_42_00.307-8.mp4\r\n",
      "00001-tomorrow-2022_09_19_15_42_00.307-9.mp4\r\n",
      "error\r\n"
     ]
    }
   ],
   "source": [
    "!ls split/"
   ]
  },
  {
   "cell_type": "markdown",
   "id": "5358f1a2",
   "metadata": {},
   "source": [
    "Finally, we can play any videos listed above. To do so, define the `video_file` variable below as the name of the video file."
   ]
  },
  {
   "cell_type": "code",
   "execution_count": 5,
   "id": "dff8691c",
   "metadata": {},
   "outputs": [
    {
     "data": {
      "text/html": [
       "<video src=\"split/00001-sleep-2022_09_19_15_42_00.307-18.mp4\" controls  width=\"360\"  height=\"540\">\n",
       "      Your browser does not support the <code>video</code> element.\n",
       "    </video>"
      ],
      "text/plain": [
       "<IPython.core.display.Video object>"
      ]
     },
     "execution_count": 5,
     "metadata": {},
     "output_type": "execute_result"
    }
   ],
   "source": [
    "import os\n",
    "from IPython.display import Video\n",
    "\n",
    "video_dir = 'split'\n",
    "video_file = '00001-sleep-2022_09_19_15_42_00.307-18.mp4'\n",
    "\n",
    "video_path = os.path.join(video_dir, video_file)\n",
    "Video(video_path, height=540, width=360)"
   ]
  },
  {
   "cell_type": "markdown",
   "id": "3cf4d0ee",
   "metadata": {},
   "source": [
    "In the next step, we extract mediapipe features from the split videos and store them in `mediapipe/`. To do this, we call `mediapipe_convert.py`. This script generates mediapipe features for the split videos and stores them in the output directory. The directory hierarchy under the output directory is organized like so: The first level contains a directory for each user named: `[Capture App User ID]-singlesign/`. Beneath this level, the script creates a directory for each signed word named: `[sign]/`. Finally, at the last level the script creates a directory named after the date and time of each session in which the sign was recorded. The naming generally looks like this: `[YYYY_MM_DD_HH_MM_SS]` This final directory contains a data file with the mediapipe features."
   ]
  },
  {
   "cell_type": "code",
   "execution_count": 6,
   "id": "4358bf0c",
   "metadata": {},
   "outputs": [
    {
     "name": "stderr",
     "output_type": "stream",
     "text": [
      "INFO: Created TensorFlow Lite XNNPACK delegate for CPU.\n"
     ]
    }
   ],
   "source": [
    "%%capture\n",
    "\n",
    "source_dir = 'split/'\n",
    "dest_dir = 'mediapipe/'\n",
    "\n",
    "%run mediapipe_convert.py --inputDirectory $source_dir --outputDirectory $dest_dir --noMark"
   ]
  },
  {
   "cell_type": "markdown",
   "id": "6ab46178",
   "metadata": {},
   "source": [
    "We can count the number of signs for which we have mediapipe features."
   ]
  },
  {
   "cell_type": "code",
   "execution_count": 7,
   "id": "e1ea20f7",
   "metadata": {
    "scrolled": true
   },
   "outputs": [
    {
     "name": "stdout",
     "output_type": "stream",
     "text": [
      "5\r\n"
     ]
    }
   ],
   "source": [
    "!ls mediapipe/00001-singlesign/ | wc -l"
   ]
  },
  {
   "cell_type": "markdown",
   "id": "3cbcb0b4",
   "metadata": {},
   "source": [
    "For the final data preparation step, we convert our mediapipe features into a format usable by the HTK toolkit."
   ]
  },
  {
   "cell_type": "code",
   "execution_count": 8,
   "id": "4df8abaa",
   "metadata": {
    "scrolled": true
   },
   "outputs": [
    {
     "name": "stdout",
     "output_type": "stream",
     "text": [
      "/root/Mobile-Data-Processing-Pipeline/demo/mediapipe\n",
      "Generating ark/htk using select_features data model\n"
     ]
    },
    {
     "name": "stderr",
     "output_type": "stream",
     "text": [
      "100%|███████████████████████████████████████████████████████████████████████████████████████████████████████████████████████████████████████████████████████████████████████████████████████████████████████████████████████████████████████████████| 100/100 [00:29<00:00,  3.35it/s]\n"
     ]
    },
    {
     "name": "stdout",
     "output_type": "stream",
     "text": [
      "Features Num Rows Distribution:  defaultdict(<class 'int'>, {53: 5, 50: 5, 48: 8, 57: 2, 41: 3, 45: 6, 49: 2, 47: 4, 76: 1, 46: 2, 58: 8, 100: 1, 44: 6, 42: 3, 37: 4, 43: 7, 51: 3, 52: 1, 31: 1, 54: 2, 62: 4, 73: 1, 63: 1, 71: 1, 61: 3, 70: 1, 55: 2, 60: 2, 36: 1, 38: 1, 39: 1, 40: 1, 28: 1, 66: 1, 56: 2, 64: 1, 65: 2})\n",
      ".ark files created\n",
      "Creating .htk files\n"
     ]
    },
    {
     "name": "stderr",
     "output_type": "stream",
     "text": [
      "  0%|                                                                                                                                                                                                                                                         | 0/100 [00:00<?, ?it/s]/kaldi/src/featbin/copy-feats-to-htk --output-dir=data/htk --output-ext=htk --sample-period=40000 ark:data/ark/00001.puzzle.singlesign.00000008.ark \n",
      "LOG (copy-feats-to-htk[5.5.1056~1-f6f4c]:main():copy-feats-to-htk.cc:134) 1 HTK feature files generated in the direcory: data/htk\n",
      "  1%|██▍                                                                                                                                                                                                                                              | 1/100 [00:00<01:27,  1.13it/s]/kaldi/src/featbin/copy-feats-to-htk --output-dir=data/htk --output-ext=htk --sample-period=40000 ark:data/ark/00001.puzzle.singlesign.00000015.ark \n",
      "LOG (copy-feats-to-htk[5.5.1056~1-f6f4c]:main():copy-feats-to-htk.cc:134) 1 HTK feature files generated in the direcory: data/htk\n",
      "  2%|████▊                                                                                                                                                                                                                                            | 2/100 [00:01<01:04,  1.52it/s]/kaldi/src/featbin/copy-feats-to-htk --output-dir=data/htk --output-ext=htk --sample-period=40000 ark:data/ark/00001.sleep.singlesign.00000008.ark \n",
      "LOG (copy-feats-to-htk[5.5.1056~1-f6f4c]:main():copy-feats-to-htk.cc:134) 1 HTK feature files generated in the direcory: data/htk\n",
      "  3%|███████▏                                                                                                                                                                                                                                         | 3/100 [00:01<00:57,  1.70it/s]/kaldi/src/featbin/copy-feats-to-htk --output-dir=data/htk --output-ext=htk --sample-period=40000 ark:data/ark/00001.talk.singlesign.00000016.ark \n",
      "LOG (copy-feats-to-htk[5.5.1056~1-f6f4c]:main():copy-feats-to-htk.cc:134) 1 HTK feature files generated in the direcory: data/htk\n",
      "  4%|█████████▋                                                                                                                                                                                                                                       | 4/100 [00:02<00:53,  1.79it/s]/kaldi/src/featbin/copy-feats-to-htk --output-dir=data/htk --output-ext=htk --sample-period=40000 ark:data/ark/00001.talk.singlesign.00000009.ark \n",
      "LOG (copy-feats-to-htk[5.5.1056~1-f6f4c]:main():copy-feats-to-htk.cc:134) 1 HTK feature files generated in the direcory: data/htk\n",
      "  5%|████████████                                                                                                                                                                                                                                     | 5/100 [00:02<00:51,  1.85it/s]/kaldi/src/featbin/copy-feats-to-htk --output-dir=data/htk --output-ext=htk --sample-period=40000 ark:data/ark/00001.talk.singlesign.00000013.ark \n",
      "LOG (copy-feats-to-htk[5.5.1056~1-f6f4c]:main():copy-feats-to-htk.cc:134) 1 HTK feature files generated in the direcory: data/htk\n",
      "  6%|██████████████▍                                                                                                                                                                                                                                  | 6/100 [00:03<00:49,  1.89it/s]/kaldi/src/featbin/copy-feats-to-htk --output-dir=data/htk --output-ext=htk --sample-period=40000 ark:data/ark/00001.tomorrow.singlesign.00000004.ark \n",
      "LOG (copy-feats-to-htk[5.5.1056~1-f6f4c]:main():copy-feats-to-htk.cc:134) 1 HTK feature files generated in the direcory: data/htk\n",
      "  7%|████████████████▊                                                                                                                                                                                                                                | 7/100 [00:03<00:48,  1.92it/s]/kaldi/src/featbin/copy-feats-to-htk --output-dir=data/htk --output-ext=htk --sample-period=40000 ark:data/ark/00001.telephone.singlesign.00000008.ark \n",
      "LOG (copy-feats-to-htk[5.5.1056~1-f6f4c]:main():copy-feats-to-htk.cc:134) 1 HTK feature files generated in the direcory: data/htk\n",
      "  8%|███████████████████▎                                                                                                                                                                                                                             | 8/100 [00:04<00:47,  1.94it/s]/kaldi/src/featbin/copy-feats-to-htk --output-dir=data/htk --output-ext=htk --sample-period=40000 ark:data/ark/00001.sleep.singlesign.00000003.ark \n",
      "LOG (copy-feats-to-htk[5.5.1056~1-f6f4c]:main():copy-feats-to-htk.cc:134) 1 HTK feature files generated in the direcory: data/htk\n",
      "  9%|█████████████████████▋                                                                                                                                                                                                                           | 9/100 [00:04<00:46,  1.95it/s]/kaldi/src/featbin/copy-feats-to-htk --output-dir=data/htk --output-ext=htk --sample-period=40000 ark:data/ark/00001.tomorrow.singlesign.00000007.ark \n",
      "LOG (copy-feats-to-htk[5.5.1056~1-f6f4c]:main():copy-feats-to-htk.cc:134) 1 HTK feature files generated in the direcory: data/htk\n",
      " 10%|████████████████████████                                                                                                                                                                                                                        | 10/100 [00:05<00:45,  1.96it/s]/kaldi/src/featbin/copy-feats-to-htk --output-dir=data/htk --output-ext=htk --sample-period=40000 ark:data/ark/00001.puzzle.singlesign.00000017.ark \n",
      "LOG (copy-feats-to-htk[5.5.1056~1-f6f4c]:main():copy-feats-to-htk.cc:134) 1 HTK feature files generated in the direcory: data/htk\n",
      " 11%|██████████████████████████▍                                                                                                                                                                                                                     | 11/100 [00:05<00:45,  1.97it/s]/kaldi/src/featbin/copy-feats-to-htk --output-dir=data/htk --output-ext=htk --sample-period=40000 ark:data/ark/00001.telephone.singlesign.00000013.ark \n",
      "LOG (copy-feats-to-htk[5.5.1056~1-f6f4c]:main():copy-feats-to-htk.cc:134) 1 HTK feature files generated in the direcory: data/htk\n",
      " 12%|████████████████████████████▊                                                                                                                                                                                                                   | 12/100 [00:06<00:44,  1.98it/s]/kaldi/src/featbin/copy-feats-to-htk --output-dir=data/htk --output-ext=htk --sample-period=40000 ark:data/ark/00001.talk.singlesign.00000019.ark \n",
      "LOG (copy-feats-to-htk[5.5.1056~1-f6f4c]:main():copy-feats-to-htk.cc:134) 1 HTK feature files generated in the direcory: data/htk\n",
      " 13%|███████████████████████████████▏                                                                                                                                                                                                                | 13/100 [00:06<00:43,  1.98it/s]/kaldi/src/featbin/copy-feats-to-htk --output-dir=data/htk --output-ext=htk --sample-period=40000 ark:data/ark/00001.tomorrow.singlesign.00000013.ark \n",
      "LOG (copy-feats-to-htk[5.5.1056~1-f6f4c]:main():copy-feats-to-htk.cc:134) 1 HTK feature files generated in the direcory: data/htk\n",
      " 14%|█████████████████████████████████▌                                                                                                                                                                                                              | 14/100 [00:07<00:43,  1.98it/s]/kaldi/src/featbin/copy-feats-to-htk --output-dir=data/htk --output-ext=htk --sample-period=40000 ark:data/ark/00001.tomorrow.singlesign.00000009.ark \n",
      "LOG (copy-feats-to-htk[5.5.1056~1-f6f4c]:main():copy-feats-to-htk.cc:134) 1 HTK feature files generated in the direcory: data/htk\n"
     ]
    },
    {
     "name": "stderr",
     "output_type": "stream",
     "text": [
      " 15%|████████████████████████████████████                                                                                                                                                                                                            | 15/100 [00:07<00:42,  1.98it/s]/kaldi/src/featbin/copy-feats-to-htk --output-dir=data/htk --output-ext=htk --sample-period=40000 ark:data/ark/00001.sleep.singlesign.00000018.ark \n",
      "LOG (copy-feats-to-htk[5.5.1056~1-f6f4c]:main():copy-feats-to-htk.cc:134) 1 HTK feature files generated in the direcory: data/htk\n",
      " 16%|██████████████████████████████████████▍                                                                                                                                                                                                         | 16/100 [00:08<00:42,  1.98it/s]/kaldi/src/featbin/copy-feats-to-htk --output-dir=data/htk --output-ext=htk --sample-period=40000 ark:data/ark/00001.sleep.singlesign.00000001.ark \n",
      "LOG (copy-feats-to-htk[5.5.1056~1-f6f4c]:main():copy-feats-to-htk.cc:134) 1 HTK feature files generated in the direcory: data/htk\n",
      " 17%|████████████████████████████████████████▊                                                                                                                                                                                                       | 17/100 [00:08<00:42,  1.97it/s]/kaldi/src/featbin/copy-feats-to-htk --output-dir=data/htk --output-ext=htk --sample-period=40000 ark:data/ark/00001.puzzle.singlesign.00000011.ark \n",
      "LOG (copy-feats-to-htk[5.5.1056~1-f6f4c]:main():copy-feats-to-htk.cc:134) 1 HTK feature files generated in the direcory: data/htk\n",
      " 18%|███████████████████████████████████████████▏                                                                                                                                                                                                    | 18/100 [00:09<00:41,  1.97it/s]/kaldi/src/featbin/copy-feats-to-htk --output-dir=data/htk --output-ext=htk --sample-period=40000 ark:data/ark/00001.sleep.singlesign.00000012.ark \n",
      "LOG (copy-feats-to-htk[5.5.1056~1-f6f4c]:main():copy-feats-to-htk.cc:134) 1 HTK feature files generated in the direcory: data/htk\n",
      " 19%|█████████████████████████████████████████████▌                                                                                                                                                                                                  | 19/100 [00:09<00:41,  1.97it/s]/kaldi/src/featbin/copy-feats-to-htk --output-dir=data/htk --output-ext=htk --sample-period=40000 ark:data/ark/00001.puzzle.singlesign.00000019.ark \n",
      "LOG (copy-feats-to-htk[5.5.1056~1-f6f4c]:main():copy-feats-to-htk.cc:134) 1 HTK feature files generated in the direcory: data/htk\n",
      " 20%|████████████████████████████████████████████████                                                                                                                                                                                                | 20/100 [00:10<00:40,  1.97it/s]/kaldi/src/featbin/copy-feats-to-htk --output-dir=data/htk --output-ext=htk --sample-period=40000 ark:data/ark/00001.puzzle.singlesign.00000009.ark \n",
      "LOG (copy-feats-to-htk[5.5.1056~1-f6f4c]:main():copy-feats-to-htk.cc:134) 1 HTK feature files generated in the direcory: data/htk\n",
      " 21%|██████████████████████████████████████████████████▍                                                                                                                                                                                             | 21/100 [00:11<00:40,  1.97it/s]/kaldi/src/featbin/copy-feats-to-htk --output-dir=data/htk --output-ext=htk --sample-period=40000 ark:data/ark/00001.telephone.singlesign.00000016.ark \n",
      "LOG (copy-feats-to-htk[5.5.1056~1-f6f4c]:main():copy-feats-to-htk.cc:134) 1 HTK feature files generated in the direcory: data/htk\n",
      " 22%|████████████████████████████████████████████████████▊                                                                                                                                                                                           | 22/100 [00:11<00:39,  1.97it/s]/kaldi/src/featbin/copy-feats-to-htk --output-dir=data/htk --output-ext=htk --sample-period=40000 ark:data/ark/00001.puzzle.singlesign.00000020.ark \n",
      "LOG (copy-feats-to-htk[5.5.1056~1-f6f4c]:main():copy-feats-to-htk.cc:134) 1 HTK feature files generated in the direcory: data/htk\n",
      " 23%|███████████████████████████████████████████████████████▏                                                                                                                                                                                        | 23/100 [00:12<00:39,  1.97it/s]/kaldi/src/featbin/copy-feats-to-htk --output-dir=data/htk --output-ext=htk --sample-period=40000 ark:data/ark/00001.telephone.singlesign.00000019.ark \n",
      "LOG (copy-feats-to-htk[5.5.1056~1-f6f4c]:main():copy-feats-to-htk.cc:134) 1 HTK feature files generated in the direcory: data/htk\n",
      " 24%|█████████████████████████████████████████████████████████▌                                                                                                                                                                                      | 24/100 [00:12<00:38,  1.97it/s]/kaldi/src/featbin/copy-feats-to-htk --output-dir=data/htk --output-ext=htk --sample-period=40000 ark:data/ark/00001.sleep.singlesign.00000013.ark \n",
      "LOG (copy-feats-to-htk[5.5.1056~1-f6f4c]:main():copy-feats-to-htk.cc:134) 1 HTK feature files generated in the direcory: data/htk\n",
      " 25%|████████████████████████████████████████████████████████████                                                                                                                                                                                    | 25/100 [00:13<00:38,  1.97it/s]/kaldi/src/featbin/copy-feats-to-htk --output-dir=data/htk --output-ext=htk --sample-period=40000 ark:data/ark/00001.telephone.singlesign.00000001.ark \n",
      "LOG (copy-feats-to-htk[5.5.1056~1-f6f4c]:main():copy-feats-to-htk.cc:134) 1 HTK feature files generated in the direcory: data/htk\n",
      " 26%|██████████████████████████████████████████████████████████████▍                                                                                                                                                                                 | 26/100 [00:13<00:37,  1.97it/s]/kaldi/src/featbin/copy-feats-to-htk --output-dir=data/htk --output-ext=htk --sample-period=40000 ark:data/ark/00001.telephone.singlesign.00000009.ark \n",
      "LOG (copy-feats-to-htk[5.5.1056~1-f6f4c]:main():copy-feats-to-htk.cc:134) 1 HTK feature files generated in the direcory: data/htk\n",
      " 27%|████████████████████████████████████████████████████████████████▊                                                                                                                                                                               | 27/100 [00:14<00:37,  1.97it/s]/kaldi/src/featbin/copy-feats-to-htk --output-dir=data/htk --output-ext=htk --sample-period=40000 ark:data/ark/00001.tomorrow.singlesign.00000020.ark \n",
      "LOG (copy-feats-to-htk[5.5.1056~1-f6f4c]:main():copy-feats-to-htk.cc:134) 1 HTK feature files generated in the direcory: data/htk\n",
      " 28%|███████████████████████████████████████████████████████████████████▏                                                                                                                                                                            | 28/100 [00:14<00:36,  1.97it/s]/kaldi/src/featbin/copy-feats-to-htk --output-dir=data/htk --output-ext=htk --sample-period=40000 ark:data/ark/00001.tomorrow.singlesign.00000002.ark \n",
      "LOG (copy-feats-to-htk[5.5.1056~1-f6f4c]:main():copy-feats-to-htk.cc:134) 1 HTK feature files generated in the direcory: data/htk\n",
      " 29%|█████████████████████████████████████████████████████████████████████▌                                                                                                                                                                          | 29/100 [00:15<00:35,  1.98it/s]/kaldi/src/featbin/copy-feats-to-htk --output-dir=data/htk --output-ext=htk --sample-period=40000 ark:data/ark/00001.tomorrow.singlesign.00000017.ark \n",
      "LOG (copy-feats-to-htk[5.5.1056~1-f6f4c]:main():copy-feats-to-htk.cc:134) 1 HTK feature files generated in the direcory: data/htk\n"
     ]
    },
    {
     "name": "stderr",
     "output_type": "stream",
     "text": [
      " 30%|████████████████████████████████████████████████████████████████████████                                                                                                                                                                        | 30/100 [00:15<00:35,  1.98it/s]/kaldi/src/featbin/copy-feats-to-htk --output-dir=data/htk --output-ext=htk --sample-period=40000 ark:data/ark/00001.puzzle.singlesign.00000012.ark \n",
      "LOG (copy-feats-to-htk[5.5.1056~1-f6f4c]:main():copy-feats-to-htk.cc:134) 1 HTK feature files generated in the direcory: data/htk\n",
      " 31%|██████████████████████████████████████████████████████████████████████████▍                                                                                                                                                                     | 31/100 [00:16<00:34,  1.98it/s]/kaldi/src/featbin/copy-feats-to-htk --output-dir=data/htk --output-ext=htk --sample-period=40000 ark:data/ark/00001.talk.singlesign.00000018.ark \n",
      "LOG (copy-feats-to-htk[5.5.1056~1-f6f4c]:main():copy-feats-to-htk.cc:134) 1 HTK feature files generated in the direcory: data/htk\n",
      " 32%|████████████████████████████████████████████████████████████████████████████▊                                                                                                                                                                   | 32/100 [00:16<00:34,  1.98it/s]/kaldi/src/featbin/copy-feats-to-htk --output-dir=data/htk --output-ext=htk --sample-period=40000 ark:data/ark/00001.tomorrow.singlesign.00000014.ark \n",
      "LOG (copy-feats-to-htk[5.5.1056~1-f6f4c]:main():copy-feats-to-htk.cc:134) 1 HTK feature files generated in the direcory: data/htk\n",
      " 33%|███████████████████████████████████████████████████████████████████████████████▏                                                                                                                                                                | 33/100 [00:17<00:33,  1.98it/s]/kaldi/src/featbin/copy-feats-to-htk --output-dir=data/htk --output-ext=htk --sample-period=40000 ark:data/ark/00001.puzzle.singlesign.00000014.ark \n",
      "LOG (copy-feats-to-htk[5.5.1056~1-f6f4c]:main():copy-feats-to-htk.cc:134) 1 HTK feature files generated in the direcory: data/htk\n",
      " 34%|█████████████████████████████████████████████████████████████████████████████████▌                                                                                                                                                              | 34/100 [00:17<00:33,  1.98it/s]/kaldi/src/featbin/copy-feats-to-htk --output-dir=data/htk --output-ext=htk --sample-period=40000 ark:data/ark/00001.talk.singlesign.00000020.ark \n",
      "LOG (copy-feats-to-htk[5.5.1056~1-f6f4c]:main():copy-feats-to-htk.cc:134) 1 HTK feature files generated in the direcory: data/htk\n",
      " 35%|████████████████████████████████████████████████████████████████████████████████████                                                                                                                                                            | 35/100 [00:18<00:32,  1.98it/s]/kaldi/src/featbin/copy-feats-to-htk --output-dir=data/htk --output-ext=htk --sample-period=40000 ark:data/ark/00001.tomorrow.singlesign.00000005.ark \n",
      "LOG (copy-feats-to-htk[5.5.1056~1-f6f4c]:main():copy-feats-to-htk.cc:134) 1 HTK feature files generated in the direcory: data/htk\n",
      " 36%|██████████████████████████████████████████████████████████████████████████████████████▍                                                                                                                                                         | 36/100 [00:18<00:32,  1.98it/s]/kaldi/src/featbin/copy-feats-to-htk --output-dir=data/htk --output-ext=htk --sample-period=40000 ark:data/ark/00001.puzzle.singlesign.00000007.ark \n",
      "LOG (copy-feats-to-htk[5.5.1056~1-f6f4c]:main():copy-feats-to-htk.cc:134) 1 HTK feature files generated in the direcory: data/htk\n",
      " 37%|████████████████████████████████████████████████████████████████████████████████████████▊                                                                                                                                                       | 37/100 [00:19<00:31,  1.98it/s]/kaldi/src/featbin/copy-feats-to-htk --output-dir=data/htk --output-ext=htk --sample-period=40000 ark:data/ark/00001.sleep.singlesign.00000020.ark \n",
      "LOG (copy-feats-to-htk[5.5.1056~1-f6f4c]:main():copy-feats-to-htk.cc:134) 1 HTK feature files generated in the direcory: data/htk\n",
      " 38%|███████████████████████████████████████████████████████████████████████████████████████████▏                                                                                                                                                    | 38/100 [00:19<00:31,  1.98it/s]/kaldi/src/featbin/copy-feats-to-htk --output-dir=data/htk --output-ext=htk --sample-period=40000 ark:data/ark/00001.tomorrow.singlesign.00000001.ark \n",
      "LOG (copy-feats-to-htk[5.5.1056~1-f6f4c]:main():copy-feats-to-htk.cc:134) 1 HTK feature files generated in the direcory: data/htk\n",
      " 39%|█████████████████████████████████████████████████████████████████████████████████████████████▌                                                                                                                                                  | 39/100 [00:20<00:30,  1.98it/s]/kaldi/src/featbin/copy-feats-to-htk --output-dir=data/htk --output-ext=htk --sample-period=40000 ark:data/ark/00001.puzzle.singlesign.00000013.ark \n",
      "LOG (copy-feats-to-htk[5.5.1056~1-f6f4c]:main():copy-feats-to-htk.cc:134) 1 HTK feature files generated in the direcory: data/htk\n",
      " 40%|████████████████████████████████████████████████████████████████████████████████████████████████                                                                                                                                                | 40/100 [00:20<00:30,  1.98it/s]/kaldi/src/featbin/copy-feats-to-htk --output-dir=data/htk --output-ext=htk --sample-period=40000 ark:data/ark/00001.sleep.singlesign.00000004.ark \n",
      "LOG (copy-feats-to-htk[5.5.1056~1-f6f4c]:main():copy-feats-to-htk.cc:134) 1 HTK feature files generated in the direcory: data/htk\n",
      " 41%|██████████████████████████████████████████████████████████████████████████████████████████████████▍                                                                                                                                             | 41/100 [00:21<00:29,  1.98it/s]/kaldi/src/featbin/copy-feats-to-htk --output-dir=data/htk --output-ext=htk --sample-period=40000 ark:data/ark/00001.talk.singlesign.00000011.ark \n",
      "LOG (copy-feats-to-htk[5.5.1056~1-f6f4c]:main():copy-feats-to-htk.cc:134) 1 HTK feature files generated in the direcory: data/htk\n",
      " 42%|████████████████████████████████████████████████████████████████████████████████████████████████████▊                                                                                                                                           | 42/100 [00:21<00:29,  1.98it/s]/kaldi/src/featbin/copy-feats-to-htk --output-dir=data/htk --output-ext=htk --sample-period=40000 ark:data/ark/00001.tomorrow.singlesign.00000019.ark \n",
      "LOG (copy-feats-to-htk[5.5.1056~1-f6f4c]:main():copy-feats-to-htk.cc:134) 1 HTK feature files generated in the direcory: data/htk\n",
      " 43%|███████████████████████████████████████████████████████████████████████████████████████████████████████▏                                                                                                                                        | 43/100 [00:22<00:28,  1.98it/s]/kaldi/src/featbin/copy-feats-to-htk --output-dir=data/htk --output-ext=htk --sample-period=40000 ark:data/ark/00001.telephone.singlesign.00000017.ark \n",
      "LOG (copy-feats-to-htk[5.5.1056~1-f6f4c]:main():copy-feats-to-htk.cc:134) 1 HTK feature files generated in the direcory: data/htk\n",
      " 44%|█████████████████████████████████████████████████████████████████████████████████████████████████████████▌                                                                                                                                      | 44/100 [00:22<00:28,  1.98it/s]/kaldi/src/featbin/copy-feats-to-htk --output-dir=data/htk --output-ext=htk --sample-period=40000 ark:data/ark/00001.sleep.singlesign.00000007.ark \n",
      "LOG (copy-feats-to-htk[5.5.1056~1-f6f4c]:main():copy-feats-to-htk.cc:134) 1 HTK feature files generated in the direcory: data/htk\n"
     ]
    },
    {
     "name": "stderr",
     "output_type": "stream",
     "text": [
      " 45%|████████████████████████████████████████████████████████████████████████████████████████████████████████████                                                                                                                                    | 45/100 [00:23<00:27,  1.98it/s]/kaldi/src/featbin/copy-feats-to-htk --output-dir=data/htk --output-ext=htk --sample-period=40000 ark:data/ark/00001.telephone.singlesign.00000006.ark \n",
      "LOG (copy-feats-to-htk[5.5.1056~1-f6f4c]:main():copy-feats-to-htk.cc:134) 1 HTK feature files generated in the direcory: data/htk\n",
      " 46%|██████████████████████████████████████████████████████████████████████████████████████████████████████████████▍                                                                                                                                 | 46/100 [00:23<00:27,  1.98it/s]/kaldi/src/featbin/copy-feats-to-htk --output-dir=data/htk --output-ext=htk --sample-period=40000 ark:data/ark/00001.sleep.singlesign.00000014.ark \n",
      "LOG (copy-feats-to-htk[5.5.1056~1-f6f4c]:main():copy-feats-to-htk.cc:134) 1 HTK feature files generated in the direcory: data/htk\n",
      " 47%|████████████████████████████████████████████████████████████████████████████████████████████████████████████████▊                                                                                                                               | 47/100 [00:24<00:26,  1.98it/s]/kaldi/src/featbin/copy-feats-to-htk --output-dir=data/htk --output-ext=htk --sample-period=40000 ark:data/ark/00001.tomorrow.singlesign.00000010.ark \n",
      "LOG (copy-feats-to-htk[5.5.1056~1-f6f4c]:main():copy-feats-to-htk.cc:134) 1 HTK feature files generated in the direcory: data/htk\n",
      " 48%|███████████████████████████████████████████████████████████████████████████████████████████████████████████████████▏                                                                                                                            | 48/100 [00:24<00:26,  1.98it/s]/kaldi/src/featbin/copy-feats-to-htk --output-dir=data/htk --output-ext=htk --sample-period=40000 ark:data/ark/00001.puzzle.singlesign.00000003.ark \n",
      "LOG (copy-feats-to-htk[5.5.1056~1-f6f4c]:main():copy-feats-to-htk.cc:134) 1 HTK feature files generated in the direcory: data/htk\n",
      " 49%|█████████████████████████████████████████████████████████████████████████████████████████████████████████████████████▌                                                                                                                          | 49/100 [00:25<00:25,  1.98it/s]/kaldi/src/featbin/copy-feats-to-htk --output-dir=data/htk --output-ext=htk --sample-period=40000 ark:data/ark/00001.puzzle.singlesign.00000016.ark \n",
      "LOG (copy-feats-to-htk[5.5.1056~1-f6f4c]:main():copy-feats-to-htk.cc:134) 1 HTK feature files generated in the direcory: data/htk\n",
      " 50%|████████████████████████████████████████████████████████████████████████████████████████████████████████████████████████                                                                                                                        | 50/100 [00:25<00:25,  1.98it/s]/kaldi/src/featbin/copy-feats-to-htk --output-dir=data/htk --output-ext=htk --sample-period=40000 ark:data/ark/00001.talk.singlesign.00000012.ark \n",
      "LOG (copy-feats-to-htk[5.5.1056~1-f6f4c]:main():copy-feats-to-htk.cc:134) 1 HTK feature files generated in the direcory: data/htk\n",
      " 51%|██████████████████████████████████████████████████████████████████████████████████████████████████████████████████████████▍                                                                                                                     | 51/100 [00:26<00:24,  1.98it/s]/kaldi/src/featbin/copy-feats-to-htk --output-dir=data/htk --output-ext=htk --sample-period=40000 ark:data/ark/00001.tomorrow.singlesign.00000008.ark \n",
      "LOG (copy-feats-to-htk[5.5.1056~1-f6f4c]:main():copy-feats-to-htk.cc:134) 1 HTK feature files generated in the direcory: data/htk\n",
      " 52%|████████████████████████████████████████████████████████████████████████████████████████████████████████████████████████████▊                                                                                                                   | 52/100 [00:26<00:24,  1.98it/s]/kaldi/src/featbin/copy-feats-to-htk --output-dir=data/htk --output-ext=htk --sample-period=40000 ark:data/ark/00001.tomorrow.singlesign.00000012.ark \n",
      "LOG (copy-feats-to-htk[5.5.1056~1-f6f4c]:main():copy-feats-to-htk.cc:134) 1 HTK feature files generated in the direcory: data/htk\n",
      " 53%|███████████████████████████████████████████████████████████████████████████████████████████████████████████████████████████████▏                                                                                                                | 53/100 [00:27<00:23,  1.98it/s]/kaldi/src/featbin/copy-feats-to-htk --output-dir=data/htk --output-ext=htk --sample-period=40000 ark:data/ark/00001.talk.singlesign.00000014.ark \n",
      "LOG (copy-feats-to-htk[5.5.1056~1-f6f4c]:main():copy-feats-to-htk.cc:134) 1 HTK feature files generated in the direcory: data/htk\n",
      " 54%|█████████████████████████████████████████████████████████████████████████████████████████████████████████████████████████████████▌                                                                                                              | 54/100 [00:27<00:23,  1.98it/s]/kaldi/src/featbin/copy-feats-to-htk --output-dir=data/htk --output-ext=htk --sample-period=40000 ark:data/ark/00001.puzzle.singlesign.00000006.ark \n",
      "LOG (copy-feats-to-htk[5.5.1056~1-f6f4c]:main():copy-feats-to-htk.cc:134) 1 HTK feature files generated in the direcory: data/htk\n",
      " 55%|████████████████████████████████████████████████████████████████████████████████████████████████████████████████████████████████████                                                                                                            | 55/100 [00:28<00:22,  1.98it/s]/kaldi/src/featbin/copy-feats-to-htk --output-dir=data/htk --output-ext=htk --sample-period=40000 ark:data/ark/00001.sleep.singlesign.00000005.ark \n",
      "LOG (copy-feats-to-htk[5.5.1056~1-f6f4c]:main():copy-feats-to-htk.cc:134) 1 HTK feature files generated in the direcory: data/htk\n",
      " 56%|██████████████████████████████████████████████████████████████████████████████████████████████████████████████████████████████████████▍                                                                                                         | 56/100 [00:28<00:22,  1.98it/s]/kaldi/src/featbin/copy-feats-to-htk --output-dir=data/htk --output-ext=htk --sample-period=40000 ark:data/ark/00001.tomorrow.singlesign.00000006.ark \n",
      "LOG (copy-feats-to-htk[5.5.1056~1-f6f4c]:main():copy-feats-to-htk.cc:134) 1 HTK feature files generated in the direcory: data/htk\n",
      " 57%|████████████████████████████████████████████████████████████████████████████████████████████████████████████████████████████████████████▊                                                                                                       | 57/100 [00:29<00:21,  1.99it/s]/kaldi/src/featbin/copy-feats-to-htk --output-dir=data/htk --output-ext=htk --sample-period=40000 ark:data/ark/00001.puzzle.singlesign.00000002.ark \n",
      "LOG (copy-feats-to-htk[5.5.1056~1-f6f4c]:main():copy-feats-to-htk.cc:134) 1 HTK feature files generated in the direcory: data/htk\n",
      " 58%|███████████████████████████████████████████████████████████████████████████████████████████████████████████████████████████████████████████▏                                                                                                    | 58/100 [00:29<00:21,  1.98it/s]/kaldi/src/featbin/copy-feats-to-htk --output-dir=data/htk --output-ext=htk --sample-period=40000 ark:data/ark/00001.talk.singlesign.00000003.ark \n",
      "LOG (copy-feats-to-htk[5.5.1056~1-f6f4c]:main():copy-feats-to-htk.cc:134) 1 HTK feature files generated in the direcory: data/htk\n",
      " 59%|█████████████████████████████████████████████████████████████████████████████████████████████████████████████████████████████████████████████▌                                                                                                  | 59/100 [00:30<00:20,  1.98it/s]/kaldi/src/featbin/copy-feats-to-htk --output-dir=data/htk --output-ext=htk --sample-period=40000 ark:data/ark/00001.talk.singlesign.00000004.ark \n",
      "LOG (copy-feats-to-htk[5.5.1056~1-f6f4c]:main():copy-feats-to-htk.cc:134) 1 HTK feature files generated in the direcory: data/htk\n"
     ]
    },
    {
     "name": "stderr",
     "output_type": "stream",
     "text": [
      " 60%|████████████████████████████████████████████████████████████████████████████████████████████████████████████████████████████████████████████████                                                                                                | 60/100 [00:30<00:20,  1.98it/s]/kaldi/src/featbin/copy-feats-to-htk --output-dir=data/htk --output-ext=htk --sample-period=40000 ark:data/ark/00001.telephone.singlesign.00000011.ark \n",
      "LOG (copy-feats-to-htk[5.5.1056~1-f6f4c]:main():copy-feats-to-htk.cc:134) 1 HTK feature files generated in the direcory: data/htk\n",
      " 61%|██████████████████████████████████████████████████████████████████████████████████████████████████████████████████████████████████████████████████▍                                                                                             | 61/100 [00:31<00:19,  1.98it/s]/kaldi/src/featbin/copy-feats-to-htk --output-dir=data/htk --output-ext=htk --sample-period=40000 ark:data/ark/00001.talk.singlesign.00000008.ark \n",
      "LOG (copy-feats-to-htk[5.5.1056~1-f6f4c]:main():copy-feats-to-htk.cc:134) 1 HTK feature files generated in the direcory: data/htk\n",
      " 62%|████████████████████████████████████████████████████████████████████████████████████████████████████████████████████████████████████████████████████▊                                                                                           | 62/100 [00:31<00:19,  1.98it/s]/kaldi/src/featbin/copy-feats-to-htk --output-dir=data/htk --output-ext=htk --sample-period=40000 ark:data/ark/00001.talk.singlesign.00000001.ark \n",
      "LOG (copy-feats-to-htk[5.5.1056~1-f6f4c]:main():copy-feats-to-htk.cc:134) 1 HTK feature files generated in the direcory: data/htk\n",
      " 63%|███████████████████████████████████████████████████████████████████████████████████████████████████████████████████████████████████████████████████████▏                                                                                        | 63/100 [00:32<00:18,  1.99it/s]/kaldi/src/featbin/copy-feats-to-htk --output-dir=data/htk --output-ext=htk --sample-period=40000 ark:data/ark/00001.talk.singlesign.00000006.ark \n",
      "LOG (copy-feats-to-htk[5.5.1056~1-f6f4c]:main():copy-feats-to-htk.cc:134) 1 HTK feature files generated in the direcory: data/htk\n",
      " 64%|█████████████████████████████████████████████████████████████████████████████████████████████████████████████████████████████████████████████████████████▌                                                                                      | 64/100 [00:32<00:18,  1.98it/s]/kaldi/src/featbin/copy-feats-to-htk --output-dir=data/htk --output-ext=htk --sample-period=40000 ark:data/ark/00001.telephone.singlesign.00000014.ark \n",
      "LOG (copy-feats-to-htk[5.5.1056~1-f6f4c]:main():copy-feats-to-htk.cc:134) 1 HTK feature files generated in the direcory: data/htk\n",
      " 65%|████████████████████████████████████████████████████████████████████████████████████████████████████████████████████████████████████████████████████████████                                                                                    | 65/100 [00:33<00:17,  1.98it/s]/kaldi/src/featbin/copy-feats-to-htk --output-dir=data/htk --output-ext=htk --sample-period=40000 ark:data/ark/00001.sleep.singlesign.00000010.ark \n",
      "LOG (copy-feats-to-htk[5.5.1056~1-f6f4c]:main():copy-feats-to-htk.cc:134) 1 HTK feature files generated in the direcory: data/htk\n",
      " 66%|██████████████████████████████████████████████████████████████████████████████████████████████████████████████████████████████████████████████████████████████▍                                                                                 | 66/100 [00:33<00:17,  1.98it/s]/kaldi/src/featbin/copy-feats-to-htk --output-dir=data/htk --output-ext=htk --sample-period=40000 ark:data/ark/00001.sleep.singlesign.00000006.ark \n",
      "LOG (copy-feats-to-htk[5.5.1056~1-f6f4c]:main():copy-feats-to-htk.cc:134) 1 HTK feature files generated in the direcory: data/htk\n",
      " 67%|████████████████████████████████████████████████████████████████████████████████████████████████████████████████████████████████████████████████████████████████▊                                                                               | 67/100 [00:34<00:16,  1.98it/s]/kaldi/src/featbin/copy-feats-to-htk --output-dir=data/htk --output-ext=htk --sample-period=40000 ark:data/ark/00001.puzzle.singlesign.00000001.ark \n",
      "LOG (copy-feats-to-htk[5.5.1056~1-f6f4c]:main():copy-feats-to-htk.cc:134) 1 HTK feature files generated in the direcory: data/htk\n",
      " 68%|███████████████████████████████████████████████████████████████████████████████████████████████████████████████████████████████████████████████████████████████████▏                                                                            | 68/100 [00:34<00:16,  1.98it/s]/kaldi/src/featbin/copy-feats-to-htk --output-dir=data/htk --output-ext=htk --sample-period=40000 ark:data/ark/00001.tomorrow.singlesign.00000015.ark \n",
      "LOG (copy-feats-to-htk[5.5.1056~1-f6f4c]:main():copy-feats-to-htk.cc:134) 1 HTK feature files generated in the direcory: data/htk\n",
      " 69%|█████████████████████████████████████████████████████████████████████████████████████████████████████████████████████████████████████████████████████████████████████▌                                                                          | 69/100 [00:35<00:15,  1.98it/s]/kaldi/src/featbin/copy-feats-to-htk --output-dir=data/htk --output-ext=htk --sample-period=40000 ark:data/ark/00001.puzzle.singlesign.00000018.ark \n",
      "LOG (copy-feats-to-htk[5.5.1056~1-f6f4c]:main():copy-feats-to-htk.cc:134) 1 HTK feature files generated in the direcory: data/htk\n",
      " 70%|████████████████████████████████████████████████████████████████████████████████████████████████████████████████████████████████████████████████████████████████████████                                                                        | 70/100 [00:35<00:15,  1.99it/s]/kaldi/src/featbin/copy-feats-to-htk --output-dir=data/htk --output-ext=htk --sample-period=40000 ark:data/ark/00001.talk.singlesign.00000017.ark \n",
      "LOG (copy-feats-to-htk[5.5.1056~1-f6f4c]:main():copy-feats-to-htk.cc:134) 1 HTK feature files generated in the direcory: data/htk\n",
      " 71%|██████████████████████████████████████████████████████████████████████████████████████████████████████████████████████████████████████████████████████████████████████████▍                                                                     | 71/100 [00:36<00:14,  1.98it/s]/kaldi/src/featbin/copy-feats-to-htk --output-dir=data/htk --output-ext=htk --sample-period=40000 ark:data/ark/00001.talk.singlesign.00000010.ark \n",
      "LOG (copy-feats-to-htk[5.5.1056~1-f6f4c]:main():copy-feats-to-htk.cc:134) 1 HTK feature files generated in the direcory: data/htk\n",
      " 72%|████████████████████████████████████████████████████████████████████████████████████████████████████████████████████████████████████████████████████████████████████████████▊                                                                   | 72/100 [00:36<00:14,  1.98it/s]/kaldi/src/featbin/copy-feats-to-htk --output-dir=data/htk --output-ext=htk --sample-period=40000 ark:data/ark/00001.telephone.singlesign.00000002.ark \n",
      "LOG (copy-feats-to-htk[5.5.1056~1-f6f4c]:main():copy-feats-to-htk.cc:134) 1 HTK feature files generated in the direcory: data/htk\n",
      " 73%|███████████████████████████████████████████████████████████████████████████████████████████████████████████████████████████████████████████████████████████████████████████████▏                                                                | 73/100 [00:37<00:13,  1.97it/s]/kaldi/src/featbin/copy-feats-to-htk --output-dir=data/htk --output-ext=htk --sample-period=40000 ark:data/ark/00001.talk.singlesign.00000007.ark \n",
      "LOG (copy-feats-to-htk[5.5.1056~1-f6f4c]:main():copy-feats-to-htk.cc:134) 1 HTK feature files generated in the direcory: data/htk\n",
      " 74%|█████████████████████████████████████████████████████████████████████████████████████████████████████████████████████████████████████████████████████████████████████████████████▌                                                              | 74/100 [00:37<00:13,  1.98it/s]/kaldi/src/featbin/copy-feats-to-htk --output-dir=data/htk --output-ext=htk --sample-period=40000 ark:data/ark/00001.puzzle.singlesign.00000010.ark \n",
      "LOG (copy-feats-to-htk[5.5.1056~1-f6f4c]:main():copy-feats-to-htk.cc:134) 1 HTK feature files generated in the direcory: data/htk\n"
     ]
    },
    {
     "name": "stderr",
     "output_type": "stream",
     "text": [
      " 75%|████████████████████████████████████████████████████████████████████████████████████████████████████████████████████████████████████████████████████████████████████████████████████                                                            | 75/100 [00:38<00:12,  1.97it/s]/kaldi/src/featbin/copy-feats-to-htk --output-dir=data/htk --output-ext=htk --sample-period=40000 ark:data/ark/00001.telephone.singlesign.00000003.ark \n",
      "LOG (copy-feats-to-htk[5.5.1056~1-f6f4c]:main():copy-feats-to-htk.cc:134) 1 HTK feature files generated in the direcory: data/htk\n",
      " 76%|██████████████████████████████████████████████████████████████████████████████████████████████████████████████████████████████████████████████████████████████████████████████████████▍                                                         | 76/100 [00:38<00:12,  1.97it/s]/kaldi/src/featbin/copy-feats-to-htk --output-dir=data/htk --output-ext=htk --sample-period=40000 ark:data/ark/00001.talk.singlesign.00000015.ark \n",
      "LOG (copy-feats-to-htk[5.5.1056~1-f6f4c]:main():copy-feats-to-htk.cc:134) 1 HTK feature files generated in the direcory: data/htk\n",
      " 77%|████████████████████████████████████████████████████████████████████████████████████████████████████████████████████████████████████████████████████████████████████████████████████████▊                                                       | 77/100 [00:39<00:11,  1.97it/s]/kaldi/src/featbin/copy-feats-to-htk --output-dir=data/htk --output-ext=htk --sample-period=40000 ark:data/ark/00001.sleep.singlesign.00000019.ark \n",
      "LOG (copy-feats-to-htk[5.5.1056~1-f6f4c]:main():copy-feats-to-htk.cc:134) 1 HTK feature files generated in the direcory: data/htk\n",
      " 78%|███████████████████████████████████████████████████████████████████████████████████████████████████████████████████████████████████████████████████████████████████████████████████████████▏                                                    | 78/100 [00:39<00:11,  1.97it/s]/kaldi/src/featbin/copy-feats-to-htk --output-dir=data/htk --output-ext=htk --sample-period=40000 ark:data/ark/00001.telephone.singlesign.00000005.ark \n",
      "LOG (copy-feats-to-htk[5.5.1056~1-f6f4c]:main():copy-feats-to-htk.cc:134) 1 HTK feature files generated in the direcory: data/htk\n",
      " 79%|█████████████████████████████████████████████████████████████████████████████████████████████████████████████████████████████████████████████████████████████████████████████████████████████▌                                                  | 79/100 [00:40<00:10,  1.97it/s]/kaldi/src/featbin/copy-feats-to-htk --output-dir=data/htk --output-ext=htk --sample-period=40000 ark:data/ark/00001.telephone.singlesign.00000020.ark \n",
      "LOG (copy-feats-to-htk[5.5.1056~1-f6f4c]:main():copy-feats-to-htk.cc:134) 1 HTK feature files generated in the direcory: data/htk\n",
      " 80%|████████████████████████████████████████████████████████████████████████████████████████████████████████████████████████████████████████████████████████████████████████████████████████████████                                                | 80/100 [00:40<00:10,  1.98it/s]/kaldi/src/featbin/copy-feats-to-htk --output-dir=data/htk --output-ext=htk --sample-period=40000 ark:data/ark/00001.tomorrow.singlesign.00000016.ark \n",
      "LOG (copy-feats-to-htk[5.5.1056~1-f6f4c]:main():copy-feats-to-htk.cc:134) 1 HTK feature files generated in the direcory: data/htk\n",
      " 81%|██████████████████████████████████████████████████████████████████████████████████████████████████████████████████████████████████████████████████████████████████████████████████████████████████▍                                             | 81/100 [00:41<00:09,  1.98it/s]/kaldi/src/featbin/copy-feats-to-htk --output-dir=data/htk --output-ext=htk --sample-period=40000 ark:data/ark/00001.telephone.singlesign.00000007.ark \n",
      "LOG (copy-feats-to-htk[5.5.1056~1-f6f4c]:main():copy-feats-to-htk.cc:134) 1 HTK feature files generated in the direcory: data/htk\n",
      " 82%|████████████████████████████████████████████████████████████████████████████████████████████████████████████████████████████████████████████████████████████████████████████████████████████████████▊                                           | 82/100 [00:41<00:09,  1.98it/s]/kaldi/src/featbin/copy-feats-to-htk --output-dir=data/htk --output-ext=htk --sample-period=40000 ark:data/ark/00001.sleep.singlesign.00000016.ark \n",
      "LOG (copy-feats-to-htk[5.5.1056~1-f6f4c]:main():copy-feats-to-htk.cc:134) 1 HTK feature files generated in the direcory: data/htk\n",
      " 83%|███████████████████████████████████████████████████████████████████████████████████████████████████████████████████████████████████████████████████████████████████████████████████████████████████████▏                                        | 83/100 [00:42<00:08,  1.98it/s]/kaldi/src/featbin/copy-feats-to-htk --output-dir=data/htk --output-ext=htk --sample-period=40000 ark:data/ark/00001.talk.singlesign.00000005.ark \n",
      "LOG (copy-feats-to-htk[5.5.1056~1-f6f4c]:main():copy-feats-to-htk.cc:134) 1 HTK feature files generated in the direcory: data/htk\n",
      " 84%|█████████████████████████████████████████████████████████████████████████████████████████████████████████████████████████████████████████████████████████████████████████████████████████████████████████▌                                      | 84/100 [00:42<00:08,  1.98it/s]/kaldi/src/featbin/copy-feats-to-htk --output-dir=data/htk --output-ext=htk --sample-period=40000 ark:data/ark/00001.tomorrow.singlesign.00000003.ark \n",
      "LOG (copy-feats-to-htk[5.5.1056~1-f6f4c]:main():copy-feats-to-htk.cc:134) 1 HTK feature files generated in the direcory: data/htk\n",
      " 85%|████████████████████████████████████████████████████████████████████████████████████████████████████████████████████████████████████████████████████████████████████████████████████████████████████████████                                    | 85/100 [00:43<00:07,  1.98it/s]/kaldi/src/featbin/copy-feats-to-htk --output-dir=data/htk --output-ext=htk --sample-period=40000 ark:data/ark/00001.sleep.singlesign.00000015.ark \n",
      "LOG (copy-feats-to-htk[5.5.1056~1-f6f4c]:main():copy-feats-to-htk.cc:134) 1 HTK feature files generated in the direcory: data/htk\n",
      " 86%|██████████████████████████████████████████████████████████████████████████████████████████████████████████████████████████████████████████████████████████████████████████████████████████████████████████████▍                                 | 86/100 [00:43<00:07,  1.98it/s]/kaldi/src/featbin/copy-feats-to-htk --output-dir=data/htk --output-ext=htk --sample-period=40000 ark:data/ark/00001.telephone.singlesign.00000015.ark \n",
      "LOG (copy-feats-to-htk[5.5.1056~1-f6f4c]:main():copy-feats-to-htk.cc:134) 1 HTK feature files generated in the direcory: data/htk\n",
      " 87%|████████████████████████████████████████████████████████████████████████████████████████████████████████████████████████████████████████████████████████████████████████████████████████████████████████████████▊                               | 87/100 [00:44<00:06,  1.98it/s]/kaldi/src/featbin/copy-feats-to-htk --output-dir=data/htk --output-ext=htk --sample-period=40000 ark:data/ark/00001.sleep.singlesign.00000017.ark \n",
      "LOG (copy-feats-to-htk[5.5.1056~1-f6f4c]:main():copy-feats-to-htk.cc:134) 1 HTK feature files generated in the direcory: data/htk\n",
      " 88%|███████████████████████████████████████████████████████████████████████████████████████████████████████████████████████████████████████████████████████████████████████████████████████████████████████████████████▏                            | 88/100 [00:44<00:06,  1.98it/s]/kaldi/src/featbin/copy-feats-to-htk --output-dir=data/htk --output-ext=htk --sample-period=40000 ark:data/ark/00001.telephone.singlesign.00000012.ark \n",
      "LOG (copy-feats-to-htk[5.5.1056~1-f6f4c]:main():copy-feats-to-htk.cc:134) 1 HTK feature files generated in the direcory: data/htk\n",
      " 89%|█████████████████████████████████████████████████████████████████████████████████████████████████████████████████████████████████████████████████████████████████████████████████████████████████████████████████████▌                          | 89/100 [00:45<00:05,  1.98it/s]/kaldi/src/featbin/copy-feats-to-htk --output-dir=data/htk --output-ext=htk --sample-period=40000 ark:data/ark/00001.puzzle.singlesign.00000004.ark \n",
      "LOG (copy-feats-to-htk[5.5.1056~1-f6f4c]:main():copy-feats-to-htk.cc:134) 1 HTK feature files generated in the direcory: data/htk\n"
     ]
    },
    {
     "name": "stderr",
     "output_type": "stream",
     "text": [
      " 90%|████████████████████████████████████████████████████████████████████████████████████████████████████████████████████████████████████████████████████████████████████████████████████████████████████████████████████████                        | 90/100 [00:45<00:05,  1.98it/s]/kaldi/src/featbin/copy-feats-to-htk --output-dir=data/htk --output-ext=htk --sample-period=40000 ark:data/ark/00001.talk.singlesign.00000002.ark \n",
      "LOG (copy-feats-to-htk[5.5.1056~1-f6f4c]:main():copy-feats-to-htk.cc:134) 1 HTK feature files generated in the direcory: data/htk\n",
      " 91%|██████████████████████████████████████████████████████████████████████████████████████████████████████████████████████████████████████████████████████████████████████████████████████████████████████████████████████████▍                     | 91/100 [00:46<00:04,  1.97it/s]/kaldi/src/featbin/copy-feats-to-htk --output-dir=data/htk --output-ext=htk --sample-period=40000 ark:data/ark/00001.sleep.singlesign.00000009.ark \n",
      "LOG (copy-feats-to-htk[5.5.1056~1-f6f4c]:main():copy-feats-to-htk.cc:134) 1 HTK feature files generated in the direcory: data/htk\n",
      " 92%|████████████████████████████████████████████████████████████████████████████████████████████████████████████████████████████████████████████████████████████████████████████████████████████████████████████████████████████▊                   | 92/100 [00:46<00:04,  1.97it/s]/kaldi/src/featbin/copy-feats-to-htk --output-dir=data/htk --output-ext=htk --sample-period=40000 ark:data/ark/00001.sleep.singlesign.00000002.ark \n",
      "LOG (copy-feats-to-htk[5.5.1056~1-f6f4c]:main():copy-feats-to-htk.cc:134) 1 HTK feature files generated in the direcory: data/htk\n",
      " 93%|███████████████████████████████████████████████████████████████████████████████████████████████████████████████████████████████████████████████████████████████████████████████████████████████████████████████████████████████▏                | 93/100 [00:47<00:03,  1.97it/s]/kaldi/src/featbin/copy-feats-to-htk --output-dir=data/htk --output-ext=htk --sample-period=40000 ark:data/ark/00001.telephone.singlesign.00000018.ark \n",
      "LOG (copy-feats-to-htk[5.5.1056~1-f6f4c]:main():copy-feats-to-htk.cc:134) 1 HTK feature files generated in the direcory: data/htk\n",
      " 94%|█████████████████████████████████████████████████████████████████████████████████████████████████████████████████████████████████████████████████████████████████████████████████████████████████████████████████████████████████▌              | 94/100 [00:47<00:03,  1.98it/s]/kaldi/src/featbin/copy-feats-to-htk --output-dir=data/htk --output-ext=htk --sample-period=40000 ark:data/ark/00001.tomorrow.singlesign.00000018.ark \n",
      "LOG (copy-feats-to-htk[5.5.1056~1-f6f4c]:main():copy-feats-to-htk.cc:134) 1 HTK feature files generated in the direcory: data/htk\n",
      " 95%|████████████████████████████████████████████████████████████████████████████████████████████████████████████████████████████████████████████████████████████████████████████████████████████████████████████████████████████████████            | 95/100 [00:48<00:02,  1.97it/s]/kaldi/src/featbin/copy-feats-to-htk --output-dir=data/htk --output-ext=htk --sample-period=40000 ark:data/ark/00001.puzzle.singlesign.00000005.ark \n",
      "LOG (copy-feats-to-htk[5.5.1056~1-f6f4c]:main():copy-feats-to-htk.cc:134) 1 HTK feature files generated in the direcory: data/htk\n",
      " 96%|██████████████████████████████████████████████████████████████████████████████████████████████████████████████████████████████████████████████████████████████████████████████████████████████████████████████████████████████████████▍         | 96/100 [00:48<00:02,  1.96it/s]/kaldi/src/featbin/copy-feats-to-htk --output-dir=data/htk --output-ext=htk --sample-period=40000 ark:data/ark/00001.tomorrow.singlesign.00000011.ark \n",
      "LOG (copy-feats-to-htk[5.5.1056~1-f6f4c]:main():copy-feats-to-htk.cc:134) 1 HTK feature files generated in the direcory: data/htk\n",
      " 97%|████████████████████████████████████████████████████████████████████████████████████████████████████████████████████████████████████████████████████████████████████████████████████████████████████████████████████████████████████████▊       | 97/100 [00:49<00:01,  1.97it/s]/kaldi/src/featbin/copy-feats-to-htk --output-dir=data/htk --output-ext=htk --sample-period=40000 ark:data/ark/00001.sleep.singlesign.00000011.ark \n",
      "LOG (copy-feats-to-htk[5.5.1056~1-f6f4c]:main():copy-feats-to-htk.cc:134) 1 HTK feature files generated in the direcory: data/htk\n",
      " 98%|███████████████████████████████████████████████████████████████████████████████████████████████████████████████████████████████████████████████████████████████████████████████████████████████████████████████████████████████████████████▏    | 98/100 [00:49<00:01,  1.97it/s]/kaldi/src/featbin/copy-feats-to-htk --output-dir=data/htk --output-ext=htk --sample-period=40000 ark:data/ark/00001.telephone.singlesign.00000010.ark \n",
      "LOG (copy-feats-to-htk[5.5.1056~1-f6f4c]:main():copy-feats-to-htk.cc:134) 1 HTK feature files generated in the direcory: data/htk\n",
      " 99%|█████████████████████████████████████████████████████████████████████████████████████████████████████████████████████████████████████████████████████████████████████████████████████████████████████████████████████████████████████████████▌  | 99/100 [00:50<00:00,  1.97it/s]/kaldi/src/featbin/copy-feats-to-htk --output-dir=data/htk --output-ext=htk --sample-period=40000 ark:data/ark/00001.telephone.singlesign.00000004.ark \n",
      "LOG (copy-feats-to-htk[5.5.1056~1-f6f4c]:main():copy-feats-to-htk.cc:134) 1 HTK feature files generated in the direcory: data/htk\n",
      "100%|███████████████████████████████████████████████████████████████████████████████████████████████████████████████████████████████████████████████████████████████████████████████████████████████████████████████████████████████████████████████| 100/100 [00:50<00:00,  1.96it/s]"
     ]
    },
    {
     "name": "stdout",
     "output_type": "stream",
     "text": [
      ".htk files created\n",
      "Creating .txt files\n",
      "Unique Words:  ['puzzle', 'sleep', 'talk', 'telephone', 'tomorrow']\n",
      "DO\n",
      ".txt files created\n"
     ]
    },
    {
     "name": "stderr",
     "output_type": "stream",
     "text": [
      "\n"
     ]
    }
   ],
   "source": [
    "from utils.utils import load_json\n",
    "from prepare_data import prepare_data\n",
    "\n",
    "# This file should contain a path near the end thatpoints to the mediapipe features above.\n",
    "features_file = 'configs/features.json'\n",
    "\n",
    "# Load features\n",
    "raw_data = load_json(features_file)\n",
    "    \n",
    "prepare_data(raw_data, isSingleWord=True)"
   ]
  },
  {
   "cell_type": "markdown",
   "id": "d78b7a1f",
   "metadata": {},
   "source": [
    "## Training Demo"
   ]
  },
  {
   "cell_type": "markdown",
   "id": "14ce7708",
   "metadata": {},
   "source": [
    "Run the train command below to train HMM models. The `train_iters` arg determines how many iterations to train to, while `n_splits` determines the number of folds for cross validation. Pass `gmm_mix` as a value that is not `None` to train GMM Mixture Models for emission probabilities. Pass `middle` to the `gmm_pattern` variable to use GMM Mixtures for all but the start/end states. Pass `all` to include GMM Mixtures for all states."
   ]
  },
  {
   "cell_type": "code",
   "execution_count": 9,
   "id": "dd75345e",
   "metadata": {
    "scrolled": true
   },
   "outputs": [
    {
     "name": "stdout",
     "output_type": "stream",
     "text": [
      "You have invoked parallel cross validation. Be prepared for dancing progress bars!\n",
      "Current split = 18. Current Test data Size = 5. Current Train data Size = 95.\n",
      "-------------- Training HMM --------------\n",
      "Running HCompV...\n",
      "HCompV Complete\n",
      "Current split = 3. Current Test data Size = 5. Current Train data Size = 95.\n",
      "-------------- Training HMM --------------\n",
      "Running HCompV...\n",
      "HCompV Complete\n",
      "Current split = 16. Current Test data Size = 5. Current Train data Size = 95.\n",
      "-------------- Training HMM --------------\n",
      "Running HCompV...\n",
      "HCompV Complete\n",
      "Current split = 1. Current Test data Size = 5. Current Train data Size = 95.\n",
      "-------------- Training HMM --------------\n",
      "Running HCompV...\n",
      "HCompV Complete\n",
      "Current split = 10. Current Test data Size = 5. Current Train data Size = 95.\n",
      "-------------- Training HMM --------------\n",
      "Running HCompV...\n",
      "HCompV Complete\n",
      "Current split = 13. Current Test data Size = 5. Current Train data Size = 95.\n",
      "-------------- Training HMM --------------\n",
      "Running HCompV...\n",
      "HCompV Complete\n",
      "Current split = 14. Current Test data Size = 5. Current Train data Size = 95.\n",
      "-------------- Training HMM --------------\n",
      "Running HCompV...\n",
      "HCompV Complete\n",
      "Current split = 0. Current Test data Size = 5. Current Train data Size = 95.\n",
      "-------------- Training HMM --------------\n",
      "Running HCompV...\n",
      "HCompV Complete\n",
      "Current split = 5. Current Test data Size = 5. Current Train data Size = 95.\n",
      "-------------- Training HMM --------------\n",
      "Running HCompV...\n",
      "HCompV Complete\n",
      "Current split = 6. Current Test data Size = 5. Current Train data Size = 95.\n",
      "-------------- Training HMM --------------\n",
      "Running HCompV...\n",
      "HCompV Complete\n",
      "Current split = 2. Current Test data Size = 5. Current Train data Size = 95.\n",
      "-------------- Training HMM --------------\n",
      "Running HCompV...\n",
      "HCompV Complete\n",
      "Current split = 7. Current Test data Size = 5. Current Train data Size = 95.\n",
      "-------------- Training HMM --------------\n",
      "Running HCompV...\n",
      "HCompV Complete\n",
      "Current split = 9. Current Test data Size = 5. Current Train data Size = 95.\n",
      "-------------- Training HMM --------------\n",
      "Running HCompV...\n",
      "HCompV Complete\n",
      "Current split = 11. Current Test data Size = 5. Current Train data Size = 95.\n",
      "-------------- Training HMM --------------\n",
      "Running HCompV...\n",
      "HCompV Complete\n",
      "Current split = 4. Current Test data Size = 5. Current Train data Size = 95.\n",
      "-------------- Training HMM --------------\n",
      "Running HCompV...\n",
      "HCompV Complete\n",
      "Current split = 8. Current Test data Size = 5. Current Train data Size = 95.\n",
      "-------------- Training HMM --------------\n",
      "Running HCompV...\n",
      "HCompV Complete\n",
      "Current split = 12. Current Test data Size = 5. Current Train data Size = 95.\n",
      "-------------- Training HMM --------------\n",
      "Running HCompV...\n",
      "HCompV Complete\n",
      "Current split = 15. Current Test data Size = 5. Current Train data Size = 95.\n",
      "-------------- Training HMM --------------\n",
      "Running HCompV...\n",
      "HCompV Complete\n",
      "Current split = 19. Current Test data Size = 5. Current Train data Size = 95.\n",
      "-------------- Training HMM --------------\n",
      "Running HCompV...\n",
      "HCompV Complete\n",
      "Current split = 17. Current Test data Size = 5. Current Train data Size = 95.\n",
      "-------------- Training HMM --------------\n",
      "Running HCompV...\n",
      "HCompV Complete\n"
     ]
    },
    {
     "name": "stderr",
     "output_type": "stream",
     "text": [
      " 88%|████████▊ | 7/8 [00:04<00:00,  1.64it/s]\n",
      " 62%|██████▎   | 5/8 [00:04<00:02,  1.13it/s]s]"
     ]
    },
    {
     "name": "stdout",
     "output_type": "stream",
     "text": [
      "HRest Complete\n",
      "Running HERest Iteration: 1...\n"
     ]
    },
    {
     "name": "stderr",
     "output_type": "stream",
     "text": [
      "\n",
      "\r",
      "  0%|          | 0/148 [00:00<?, ?it/s]\r",
      "  1%|▏         | 2/148 [00:00<00:21,  6.83it/s]\r",
      " 50%|█████     | 4/8 [00:04<00:04,  1.13s/it]\r",
      " 75%|███████▌  | 6/8 [00:04<00:01,  1.29it/s]\r",
      "  1%|          | 1/148 [00:00<00:19,  7.50it/s]\r",
      " 88%|████████▊ | 7/8 [00:04<00:00,  1.51it/s]"
     ]
    },
    {
     "name": "stdout",
     "output_type": "stream",
     "text": [
      "HRest Complete\n",
      "Running HERest Iteration: 1...\n"
     ]
    },
    {
     "name": "stderr",
     "output_type": "stream",
     "text": [
      "  3%|▎         | 4/148 [00:00<00:18,  7.70it/s]\n",
      "  4%|▍         | 6/148 [00:00<00:19,  7.14it/s]\n",
      "  0%|          | 0/148 [00:00<?, ?it/s]"
     ]
    },
    {
     "name": "stdout",
     "output_type": "stream",
     "text": [
      "HRest Complete\n",
      "Running HERest Iteration: 1...\n",
      "HRest Complete\n",
      "Running HERest Iteration: 1...\n",
      "HRest Complete\n",
      "Running HERest Iteration: 1...\n"
     ]
    },
    {
     "name": "stderr",
     "output_type": "stream",
     "text": [
      "\n",
      "  1%|▏         | 2/148 [00:00<00:19,  7.36it/s]\n",
      "  1%|          | 1/148 [00:00<00:23,  6.22it/s]"
     ]
    },
    {
     "name": "stdout",
     "output_type": "stream",
     "text": [
      "HRest Complete\n",
      "Running HERest Iteration: 1...\n"
     ]
    },
    {
     "name": "stderr",
     "output_type": "stream",
     "text": [
      "  9%|▉         | 13/148 [00:01<00:19,  6.96it/s]\n",
      "  1%|          | 1/148 [00:00<00:24,  6.10it/s]]"
     ]
    },
    {
     "name": "stdout",
     "output_type": "stream",
     "text": [
      "HRest Complete\n",
      "Running HERest Iteration: 1...\n"
     ]
    },
    {
     "name": "stderr",
     "output_type": "stream",
     "text": [
      "\r",
      "  7%|▋         | 10/148 [00:01<00:19,  7.10it/s]\r",
      "100%|██████████| 8/8 [00:06<00:00,  1.23it/s]\r",
      "100%|██████████| 8/8 [00:06<00:00,  1.21it/s]\r",
      "  7%|▋         | 10/148 [00:01<00:20,  6.79it/s]\r",
      "  7%|▋         | 10/148 [00:01<00:20,  6.70it/s]\r",
      " 11%|█         | 16/148 [00:02<00:18,  7.12it/s]\r",
      "  5%|▌         | 8/148 [00:01<00:19,  7.16it/s]\r",
      " 10%|█         | 15/148 [00:02<00:19,  6.75it/s]\r",
      "100%|██████████| 8/8 [00:06<00:00,  1.20it/s]\r",
      "100%|██████████| 8/8 [00:06<00:00,  1.21it/s]\r",
      "  1%|▏         | 2/148 [00:00<00:23,  6.20it/s]\r",
      "  7%|▋         | 11/148 [00:01<00:18,  7.25it/s]\r",
      "  7%|▋         | 11/148 [00:01<00:19,  7.09it/s]\r",
      " 11%|█▏        | 17/148 [00:02<00:17,  7.31it/s]\r",
      "  6%|▌         | 9/148 [00:01<00:18,  7.33it/s]\r",
      "  7%|▋         | 11/148 [00:01<00:19,  6.88it/s]\n",
      "\r",
      "  0%|          | 0/148 [00:00<?, ?it/s]"
     ]
    },
    {
     "name": "stdout",
     "output_type": "stream",
     "text": [
      "HRest Complete\n",
      "Running HERest Iteration: 1...\n",
      "HRest Complete\n",
      "Running HERest Iteration: 1...\n"
     ]
    },
    {
     "name": "stderr",
     "output_type": "stream",
     "text": [
      " 88%|████████▊ | 7/8 [00:06<00:00,  1.04it/s]\n",
      " 14%|█▍        | 21/148 [00:02<00:17,  7.27it/s]\n",
      "  3%|▎         | 4/148 [00:00<00:21,  6.78it/s]]"
     ]
    },
    {
     "name": "stdout",
     "output_type": "stream",
     "text": [
      "HRest Complete\n",
      "Running HERest Iteration: 1...\n"
     ]
    },
    {
     "name": "stderr",
     "output_type": "stream",
     "text": [
      "  5%|▌         | 8/148 [00:01<00:19,  7.23it/s]]\n",
      " 18%|█▊        | 26/148 [00:03<00:18,  6.46it/s]"
     ]
    },
    {
     "name": "stdout",
     "output_type": "stream",
     "text": [
      "HRest Complete\n",
      "Running HERest Iteration: 1...\n"
     ]
    },
    {
     "name": "stderr",
     "output_type": "stream",
     "text": [
      "\r",
      " 14%|█▎        | 20/148 [00:03<00:19,  6.68it/s]\r",
      "100%|██████████| 8/8 [00:08<00:00,  1.02s/it]\r",
      "100%|██████████| 8/8 [00:08<00:00,  1.01s/it]\r",
      "  6%|▌         | 9/148 [00:01<00:21,  6.57it/s]\r",
      "  8%|▊         | 12/148 [00:01<00:20,  6.54it/s]\r",
      "100%|██████████| 8/8 [00:08<00:00,  1.00it/s]\r",
      "100%|██████████| 8/8 [00:08<00:00,  1.03s/it]\r",
      " 14%|█▍        | 21/148 [00:02<00:17,  7.17it/s]\r",
      " 13%|█▎        | 19/148 [00:02<00:17,  7.31it/s]\r",
      " 15%|█▍        | 22/148 [00:02<00:16,  7.69it/s]\r",
      "  7%|▋         | 10/148 [00:01<00:18,  7.42it/s]\r",
      " 18%|█▊        | 26/148 [00:03<00:17,  6.95it/s]\r",
      "  4%|▍         | 6/148 [00:00<00:21,  6.48it/s]\r",
      "  1%|▏         | 2/148 [00:00<00:21,  6.67it/s]\r",
      " 18%|█▊        | 27/148 [00:03<00:18,  6.40it/s]\n",
      "\r",
      "  0%|          | 0/148 [00:00<?, ?it/s]\r",
      " 14%|█▍        | 21/148 [00:03<00:19,  6.49it/s]\n",
      "\r",
      "  0%|          | 0/148 [00:00<?, ?it/s]\r",
      " 15%|█▍        | 22/148 [00:03<00:16,  7.48it/s]\r",
      "  9%|▉         | 13/148 [00:01<00:19,  6.76it/s]\n",
      "\r",
      "  0%|          | 0/148 [00:00<?, ?it/s]\r",
      "  7%|▋         | 10/148 [00:01<00:21,  6.47it/s]"
     ]
    },
    {
     "name": "stdout",
     "output_type": "stream",
     "text": [
      "HRest Complete\n",
      "Running HERest Iteration: 1...\n",
      "HRest Complete\n",
      "Running HERest Iteration: 1...\n",
      "HRest Complete\n",
      "Running HERest Iteration: 1...\n"
     ]
    },
    {
     "name": "stderr",
     "output_type": "stream",
     "text": [
      "  2%|▏         | 3/148 [00:00<00:20,  7.00it/s]]\n",
      " 10%|█         | 15/148 [00:02<00:19,  6.99it/s]"
     ]
    },
    {
     "name": "stdout",
     "output_type": "stream",
     "text": [
      "HRest Complete\n",
      "Running HERest Iteration: 1...\n"
     ]
    },
    {
     "name": "stderr",
     "output_type": "stream",
     "text": [
      " 14%|█▎        | 20/148 [00:02<00:17,  7.25it/s]\n",
      " 23%|██▎       | 34/148 [00:04<00:16,  7.03it/s]"
     ]
    },
    {
     "name": "stdout",
     "output_type": "stream",
     "text": [
      "HRest Complete\n",
      "Running HERest Iteration: 1...\n"
     ]
    },
    {
     "name": "stderr",
     "output_type": "stream",
     "text": [
      " 20%|██        | 30/148 [00:04<00:17,  6.72it/s]\n",
      " 25%|██▌       | 37/148 [00:05<00:16,  6.69it/s]\n",
      " 17%|█▋        | 25/148 [00:03<00:17,  7.01it/s]"
     ]
    },
    {
     "name": "stdout",
     "output_type": "stream",
     "text": [
      "HRest Complete\n",
      "Running HERest Iteration: 1...\n",
      "HRest Complete\n",
      "Running HERest Iteration: 1...\n"
     ]
    },
    {
     "name": "stderr",
     "output_type": "stream",
     "text": [
      " 16%|█▌        | 24/148 [00:03<00:17,  6.95it/s]\n",
      " 30%|██▉       | 44/148 [00:06<00:15,  6.93it/s]"
     ]
    },
    {
     "name": "stdout",
     "output_type": "stream",
     "text": [
      "HRest Complete\n",
      "Running HERest Iteration: 1...\n"
     ]
    },
    {
     "name": "stderr",
     "output_type": "stream",
     "text": [
      " 24%|██▍       | 36/148 [00:05<00:15,  7.21it/s]\n",
      " 20%|██        | 30/148 [00:04<00:16,  7.19it/s]"
     ]
    },
    {
     "name": "stdout",
     "output_type": "stream",
     "text": [
      "HRest Complete\n",
      "Running HERest Iteration: 1...\n"
     ]
    },
    {
     "name": "stderr",
     "output_type": "stream",
     "text": [
      " 96%|█████████▌| 142/148 [00:20<00:00,  7.16it/s]"
     ]
    },
    {
     "name": "stdout",
     "output_type": "stream",
     "text": [
      "HParse -A -T 1 grammar.txt wordNet.txt \n",
      "Creating HParse net from file grammar.txt\n",
      "Generating Lattice with 10 nodes and 13 links\n",
      "Writing Word Lattice to wordNet.txt\n",
      "HParse -A -T 1 grammar.txt wordNet.txt \n",
      "Creating HParse net from file grammar.txt\n",
      "Generating Lattice with 10 nodes and 13 links\n",
      "Writing Word Lattice to wordNet.txt\n"
     ]
    },
    {
     "name": "stderr",
     "output_type": "stream",
     "text": [
      " 85%|████████▌ | 126/148 [00:18<00:03,  6.88it/s]"
     ]
    },
    {
     "name": "stdout",
     "output_type": "stream",
     "text": [
      "HParse -A -T 1 grammar.txt wordNet.txt \n",
      "Creating HParse net from file grammar.txt\n",
      "Generating Lattice with 10 nodes and 13 links\n",
      "Writing Word Lattice to wordNet.txt\n",
      "HParse -A -T 1 grammar.txt wordNet.txt \n",
      "Creating HParse net from file grammar.txt\n",
      "Generating Lattice with 10 nodes and 13 links\n",
      "Writing Word Lattice to wordNet.txt\n"
     ]
    },
    {
     "name": "stderr",
     "output_type": "stream",
     "text": [
      "\r",
      " 84%|████████▍ | 125/148 [00:18<00:03,  7.46it/s]\r",
      " 94%|█████████▍| 139/148 [00:19<00:01,  7.05it/s]\r",
      " 95%|█████████▌| 141/148 [00:20<00:01,  6.94it/s]\r",
      " 90%|████████▉ | 133/148 [00:19<00:02,  7.29it/s]\r",
      " 86%|████████▌ | 127/148 [00:18<00:02,  7.36it/s]\r",
      " 86%|████████▌ | 127/148 [00:18<00:02,  7.19it/s]\r",
      " 74%|███████▎  | 109/148 [00:15<00:05,  7.27it/s]\r",
      " 78%|███████▊  | 115/148 [00:16<00:04,  7.20it/s]\r",
      " 78%|███████▊  | 116/148 [00:16<00:04,  6.82it/s]\r",
      " 70%|███████   | 104/148 [00:14<00:06,  7.00it/s]\r",
      " 99%|█████████▉| 147/148 [00:21<00:00,  6.97it/s]\r",
      " 84%|████████▍ | 124/148 [00:17<00:03,  7.12it/s]\r",
      "100%|██████████| 148/148 [00:21<00:00,  7.05it/s]\r",
      "100%|██████████| 148/148 [00:21<00:00,  6.91it/s]\r",
      " 93%|█████████▎| 137/148 [00:19<00:01,  6.57it/s]\r",
      " 83%|████████▎ | 123/148 [00:17<00:03,  7.17it/s]\r",
      " 86%|████████▌ | 127/148 [00:18<00:02,  7.11it/s]\r",
      " 96%|█████████▌| 142/148 [00:20<00:00,  7.31it/s]\r",
      " 91%|█████████ | 134/148 [00:19<00:01,  7.44it/s]\r",
      " 85%|████████▌ | 126/148 [00:18<00:02,  7.34it/s]\r",
      " 95%|█████████▍| 140/148 [00:19<00:01,  6.96it/s]\r",
      " 86%|████████▋ | 128/148 [00:18<00:02,  7.05it/s]\r",
      " 86%|████████▋ | 128/148 [00:18<00:02,  7.12it/s]\r",
      " 78%|███████▊  | 116/148 [00:16<00:04,  7.34it/s]\r",
      " 74%|███████▍  | 110/148 [00:15<00:05,  7.14it/s]"
     ]
    },
    {
     "name": "stdout",
     "output_type": "stream",
     "text": [
      "HParse -A -T 1 grammar.txt wordNet.txt \n",
      "Creating HParse net from file grammar.txt\n",
      "Generating Lattice with 10 nodes and 13 links\n",
      "Writing Word Lattice to wordNet.txt\n",
      "HParse -A -T 1 grammar.txt wordNet.txt \n",
      "Creating HParse net from file grammar.txt\n",
      "Generating Lattice with 10 nodes and 13 links\n",
      "Writing Word Lattice to wordNet.txt\n"
     ]
    },
    {
     "name": "stderr",
     "output_type": "stream",
     "text": [
      " 83%|████████▎ | 123/148 [00:17<00:03,  7.25it/s]"
     ]
    },
    {
     "name": "stdout",
     "output_type": "stream",
     "text": [
      "HParse -A -T 1 grammar.txt wordNet.txt \n",
      "Creating HParse net from file grammar.txt\n",
      "Generating Lattice with 10 nodes and 13 links\n",
      "Writing Word Lattice to wordNet.txt\n"
     ]
    },
    {
     "name": "stderr",
     "output_type": "stream",
     "text": [
      "\r",
      " 89%|████████▊ | 131/148 [00:18<00:02,  7.16it/s]\r",
      " 91%|█████████ | 134/148 [00:19<00:01,  7.30it/s]\r",
      " 79%|███████▉  | 117/148 [00:16<00:03,  7.87it/s]\r",
      " 99%|█████████▉| 147/148 [00:20<00:00,  7.45it/s]\r",
      " 91%|█████████ | 135/148 [00:19<00:01,  7.58it/s]\r",
      " 83%|████████▎ | 123/148 [00:17<00:03,  7.68it/s]\r",
      " 76%|███████▌  | 112/148 [00:15<00:04,  7.80it/s]\r",
      " 91%|█████████ | 135/148 [00:19<00:01,  7.25it/s]\r",
      " 90%|████████▉ | 133/148 [00:19<00:02,  7.09it/s]\r",
      " 89%|████████▊ | 131/148 [00:18<00:02,  7.84it/s]\r",
      " 98%|█████████▊| 145/148 [00:20<00:00,  7.61it/s]\r",
      " 96%|█████████▌| 142/148 [00:20<00:00,  7.43it/s]\r",
      " 89%|████████▉ | 132/148 [00:18<00:02,  7.40it/s]\r",
      " 84%|████████▍ | 124/148 [00:17<00:03,  7.04it/s]\r",
      " 91%|█████████ | 135/148 [00:19<00:01,  7.49it/s]\r",
      " 80%|███████▉  | 118/148 [00:16<00:03,  7.92it/s]\r",
      "100%|██████████| 148/148 [00:20<00:00,  7.56it/s]\r",
      "100%|██████████| 148/148 [00:20<00:00,  7.09it/s]\r",
      " 84%|████████▍ | 124/148 [00:17<00:03,  7.77it/s]\r",
      " 92%|█████████▏| 136/148 [00:19<00:01,  7.64it/s]\r",
      " 76%|███████▋  | 113/148 [00:16<00:04,  7.82it/s]"
     ]
    },
    {
     "name": "stdout",
     "output_type": "stream",
     "text": [
      "HParse -A -T 1 grammar.txt wordNet.txt \n",
      "Creating HParse net from file grammar.txt\n",
      "Generating Lattice with 10 nodes and 13 links\n",
      "Writing Word Lattice to wordNet.txt\n"
     ]
    },
    {
     "name": "stderr",
     "output_type": "stream",
     "text": [
      " 93%|█████████▎| 137/148 [00:19<00:01,  7.67it/s]"
     ]
    },
    {
     "name": "stdout",
     "output_type": "stream",
     "text": [
      "HParse -A -T 1 grammar.txt wordNet.txt \n",
      "Creating HParse net from file grammar.txt\n",
      "Generating Lattice with 10 nodes and 13 links\n",
      "Writing Word Lattice to wordNet.txt\n"
     ]
    },
    {
     "name": "stderr",
     "output_type": "stream",
     "text": [
      " 94%|█████████▍| 139/148 [00:19<00:01,  7.90it/s]"
     ]
    },
    {
     "name": "stdout",
     "output_type": "stream",
     "text": [
      "HParse -A -T 1 grammar.txt wordNet.txt \n",
      "Creating HParse net from file grammar.txt\n",
      "Generating Lattice with 10 nodes and 13 links\n",
      "Writing Word Lattice to wordNet.txt\n"
     ]
    },
    {
     "name": "stderr",
     "output_type": "stream",
     "text": [
      " 98%|█████████▊| 145/148 [00:20<00:00,  8.02it/s]"
     ]
    },
    {
     "name": "stdout",
     "output_type": "stream",
     "text": [
      "HParse -A -T 1 grammar.txt wordNet.txt \n",
      "Creating HParse net from file grammar.txt\n",
      "Generating Lattice with 10 nodes and 13 links\n",
      "Writing Word Lattice to wordNet.txt\n",
      "HParse -A -T 1 grammar.txt wordNet.txt \n",
      "Creating HParse net from file grammar.txt\n",
      "Generating Lattice with 10 nodes and 13 links\n",
      "Writing Word Lattice to wordNet.txt\n",
      "HParse -A -T 1 grammar.txt wordNet.txt \n",
      "Creating HParse net from file grammar.txt\n",
      "Generating Lattice with 10 nodes and 13 links\n",
      "Writing Word Lattice to wordNet.txt\n"
     ]
    },
    {
     "name": "stderr",
     "output_type": "stream",
     "text": [
      "\r",
      " 99%|█████████▊| 146/148 [00:20<00:00,  7.79it/s]\r",
      " 89%|████████▉ | 132/148 [00:18<00:02,  7.89it/s]\r",
      " 93%|█████████▎| 138/148 [00:19<00:01,  7.85it/s]\r",
      " 86%|████████▌ | 127/148 [00:17<00:02,  7.96it/s]\r",
      " 93%|█████████▎| 138/148 [00:19<00:01,  7.88it/s]\r",
      "100%|██████████| 148/148 [00:21<00:00,  7.89it/s]\r",
      "100%|██████████| 148/148 [00:21<00:00,  7.00it/s]\r",
      " 99%|█████████▊| 146/148 [00:20<00:00,  8.02it/s]\r",
      " 99%|█████████▉| 147/148 [00:20<00:00,  7.78it/s]\r",
      " 90%|████████▉ | 133/148 [00:18<00:01,  7.92it/s]\r",
      " 94%|█████████▍| 139/148 [00:19<00:01,  7.93it/s]\r",
      " 86%|████████▋ | 128/148 [00:18<00:02,  7.95it/s]\r",
      " 94%|█████████▍| 139/148 [00:19<00:01,  7.83it/s]\r",
      " 99%|█████████▉| 147/148 [00:20<00:00,  8.03it/s]"
     ]
    },
    {
     "name": "stdout",
     "output_type": "stream",
     "text": [
      "HParse -A -T 1 grammar.txt wordNet.txt \n",
      "Creating HParse net from file grammar.txt\n",
      "Generating Lattice with 10 nodes and 13 links\n",
      "Writing Word Lattice to wordNet.txt\n",
      "HParse -A -T 1 grammar.txt wordNet.txt \n",
      "Creating HParse net from file grammar.txt\n",
      "Generating Lattice with 10 nodes and 13 links\n",
      "Writing Word Lattice to wordNet.txt\n"
     ]
    },
    {
     "name": "stderr",
     "output_type": "stream",
     "text": [
      "\r",
      "100%|██████████| 148/148 [00:20<00:00,  7.78it/s]\r",
      "100%|██████████| 148/148 [00:20<00:00,  7.08it/s]\r",
      " 91%|█████████ | 134/148 [00:18<00:01,  7.93it/s]\r",
      " 95%|█████████▍| 140/148 [00:19<00:01,  7.90it/s]\r",
      " 87%|████████▋ | 129/148 [00:18<00:02,  7.91it/s]\r",
      " 95%|█████████▍| 140/148 [00:19<00:01,  7.84it/s]\r",
      "100%|██████████| 148/148 [00:20<00:00,  7.99it/s]\r",
      "100%|██████████| 148/148 [00:20<00:00,  7.23it/s]\r",
      " 91%|█████████ | 135/148 [00:19<00:01,  7.89it/s]\r",
      " 95%|█████████▌| 141/148 [00:20<00:00,  7.87it/s]\r",
      " 88%|████████▊ | 130/148 [00:18<00:02,  7.86it/s]\r",
      " 95%|█████████▌| 141/148 [00:20<00:00,  7.85it/s]"
     ]
    },
    {
     "name": "stdout",
     "output_type": "stream",
     "text": [
      "HParse -A -T 1 grammar.txt wordNet.txt \n",
      "Creating HParse net from file grammar.txt\n",
      "Generating Lattice with 10 nodes and 13 links\n",
      "Writing Word Lattice to wordNet.txt\n"
     ]
    },
    {
     "name": "stderr",
     "output_type": "stream",
     "text": [
      " 97%|█████████▋| 143/148 [00:20<00:00,  7.86it/s]"
     ]
    },
    {
     "name": "stdout",
     "output_type": "stream",
     "text": [
      "HParse -A -T 1 grammar.txt wordNet.txt \n",
      "Creating HParse net from file grammar.txt\n",
      "Generating Lattice with 10 nodes and 13 links\n",
      "Writing Word Lattice to wordNet.txt\n",
      "HParse -A -T 1 grammar.txt wordNet.txt \n",
      "Creating HParse net from file grammar.txt\n",
      "Generating Lattice with 10 nodes and 13 links\n",
      "Writing Word Lattice to wordNet.txt\n"
     ]
    },
    {
     "name": "stderr",
     "output_type": "stream",
     "text": [
      " 97%|█████████▋| 144/148 [00:20<00:00,  7.89it/s]"
     ]
    },
    {
     "name": "stdout",
     "output_type": "stream",
     "text": [
      "HParse -A -T 1 grammar.txt wordNet.txt \n",
      "Creating HParse net from file grammar.txt\n",
      "Generating Lattice with 10 nodes and 13 links\n",
      "Writing Word Lattice to wordNet.txt\n"
     ]
    },
    {
     "name": "stderr",
     "output_type": "stream",
     "text": [
      "\r",
      " 98%|█████████▊| 145/148 [00:20<00:00,  7.84it/s]\r",
      " 99%|█████████▊| 146/148 [00:20<00:00,  7.90it/s]"
     ]
    },
    {
     "name": "stdout",
     "output_type": "stream",
     "text": [
      "HParse -A -T 1 grammar.txt wordNet.txt \n",
      "Creating HParse net from file grammar.txt\n",
      "Generating Lattice with 10 nodes and 13 links\n",
      "Writing Word Lattice to wordNet.txt\n"
     ]
    },
    {
     "name": "stderr",
     "output_type": "stream",
     "text": [
      "\r",
      " 99%|█████████▉| 147/148 [00:20<00:00,  7.91it/s]\r",
      "100%|██████████| 148/148 [00:20<00:00,  7.87it/s]\r",
      "100%|██████████| 148/148 [00:20<00:00,  7.20it/s]"
     ]
    }
   ],
   "source": [
    "from train import train\n",
    "\n",
    "train_iters = [150]\n",
    "leave_one_out = False\n",
    "n_splits = 20\n",
    "hmm_step_type = 'single'\n",
    "gmm_mix = 3\n",
    "gmm_pattern = 'middle'\n",
    "random_state = 423\n",
    "\n",
    "train(\n",
    "    train_iters=train_iters,\n",
    "    leave_one_out=leave_one_out, # n_splits would be ignored in this case\n",
    "    n_splits=n_splits,\n",
    "    hmm_step_type=hmm_step_type, # see utils/model_utils.py for possible values\n",
    "    gmm_mix=gmm_mix,\n",
    "    gmm_pattern=gmm_pattern, # If gmm mix is none this is ignored.\n",
    "    random_state=random_state\n",
    ")"
   ]
  },
  {
   "cell_type": "markdown",
   "id": "78113474",
   "metadata": {},
   "source": [
    "## Testing Demo"
   ]
  },
  {
   "cell_type": "markdown",
   "id": "64ce68a8",
   "metadata": {},
   "source": [
    "### Results\n",
    "\n",
    "The next cell runs the same trained HMMs from the previous step on all of the test data. It outputs a weighted average on results across all folds."
   ]
  },
  {
   "cell_type": "code",
   "execution_count": 10,
   "id": "730d095f",
   "metadata": {},
   "outputs": [
    {
     "name": "stdout",
     "output_type": "stream",
     "text": [
      "HVite -A -H models/0/hmm150/newMacros -m -S lists/0/test.data -i results/0/res_hmm150.mlf -p -200 -w wordNet.txt -s 25 dict wordList \n",
      "HVite -A -H models/1/hmm150/newMacros -m -S lists/1/test.data -i results/1/res_hmm150.mlf -p -200 -w wordNet.txt -s 25 dict wordList \n",
      "HVite -A -H models/2/hmm150/newMacros -m -S lists/2/test.data -i results/2/res_hmm150.mlf -p -200 -w wordNet.txt -s 25 dict wordList \n",
      "HVite -A -H models/3/hmm150/newMacros -m -S lists/3/test.data -i results/3/res_hmm150.mlf -p -200 -w wordNet.txt -s 25 dict wordList \n",
      "HVite -A -H models/4/hmm150/newMacros -m -S lists/4/test.data -i results/4/res_hmm150.mlf -p -200 -w wordNet.txt -s 25 dict wordList \n",
      "HVite -A -H models/5/hmm150/newMacros -m -S lists/5/test.data -i results/5/res_hmm150.mlf -p -200 -w wordNet.txt -s 25 dict wordList \n",
      "HVite -A -H models/6/hmm150/newMacros -m -S lists/6/test.data -i results/6/res_hmm150.mlf -p -200 -w wordNet.txt -s 25 dict wordList \n",
      "HVite -A -H models/7/hmm150/newMacros -m -S lists/7/test.data -i results/7/res_hmm150.mlf -p -200 -w wordNet.txt -s 25 dict wordList \n",
      "HVite -A -H models/8/hmm150/newMacros -m -S lists/8/test.data -i results/8/res_hmm150.mlf -p -200 -w wordNet.txt -s 25 dict wordList \n",
      "HVite -A -H models/9/hmm150/newMacros -m -S lists/9/test.data -i results/9/res_hmm150.mlf -p -200 -w wordNet.txt -s 25 dict wordList \n",
      "HVite -A -H models/10/hmm150/newMacros -m -S lists/10/test.data -i results/10/res_hmm150.mlf -p -200 -w wordNet.txt -s 25 dict wordList \n",
      "HVite -A -H models/11/hmm150/newMacros -m -S lists/11/test.data -i results/11/res_hmm150.mlf -p -200 -w wordNet.txt -s 25 dict wordList \n",
      "HVite -A -H models/12/hmm150/newMacros -m -S lists/12/test.data -i results/12/res_hmm150.mlf -p -200 -w wordNet.txt -s 25 dict wordList \n",
      "HVite -A -H models/13/hmm150/newMacros -m -S lists/13/test.data -i results/13/res_hmm150.mlf -p -200 -w wordNet.txt -s 25 dict wordList \n",
      "HVite -A -H models/14/hmm150/newMacros -m -S lists/14/test.data -i results/14/res_hmm150.mlf -p -200 -w wordNet.txt -s 25 dict wordList \n",
      "HVite -A -H models/15/hmm150/newMacros -m -S lists/15/test.data -i results/15/res_hmm150.mlf -p -200 -w wordNet.txt -s 25 dict wordList \n",
      "HVite -A -H models/16/hmm150/newMacros -m -S lists/16/test.data -i results/16/res_hmm150.mlf -p -200 -w wordNet.txt -s 25 dict wordList \n",
      "HVite -A -H models/17/hmm150/newMacros -m -S lists/17/test.data -i results/17/res_hmm150.mlf -p -200 -w wordNet.txt -s 25 dict wordList \n",
      "HVite -A -H models/18/hmm150/newMacros -m -S lists/18/test.data -i results/18/res_hmm150.mlf -p -200 -w wordNet.txt -s 25 dict wordList \n",
      "HVite -A -H models/19/hmm150/newMacros -m -S lists/19/test.data -i results/19/res_hmm150.mlf -p -200 -w wordNet.txt -s 25 dict wordList \n",
      "\n",
      "Error:  1.0\n"
     ]
    }
   ],
   "source": [
    "from utils.utils import get_results, clean_and_make_path, get_num_lines\n",
    "import shutil\n",
    "import os\n",
    "import numpy as np\n",
    "## We can run HVite and HResults on the entire test dataset.\n",
    "\n",
    "all_results = {'error': [], 'num_rows': []}\n",
    "\n",
    "for i in range(n_splits):\n",
    "    fold = str(i)\n",
    "    \n",
    "    clean_and_make_path(f'results/{fold}')\n",
    "    clean_and_make_path(f'hresults/{fold}')\n",
    "    \n",
    "    model_file = f'models/{fold}/hmm150/newMacros'\n",
    "    test_data = f'lists/{fold}/test.data'\n",
    "    results_file = f'results/{fold}/res_hmm150.mlf'\n",
    "    hresults_file = f'hresults/{fold}/res_hmm150.txt'\n",
    "    \n",
    "    # HVite\n",
    "    HVite_str = (f'HVite -A -H {model_file} -m -S {test_data} -i '\n",
    "                    f'{results_file} -p -200 -w wordNet.txt -s 25 dict wordList')\n",
    "\n",
    "    os.system(HVite_str)\n",
    "\n",
    "    # HResults\n",
    "    HResults_str = (f'HResults -A -h -e \\\\?\\\\?\\\\? sil0 -e \\\\?\\\\?\\\\? '\n",
    "                        f'sil1 -p -t -I all_labels.mlf wordList {results_file} '\n",
    "                        f'>> {hresults_file}')\n",
    "    os.system(HResults_str)\n",
    "    \n",
    "    results = get_results(hresults_file)\n",
    "    num_rows = get_num_lines(test_data)\n",
    "    \n",
    "    all_results['error'].append(results['error'])\n",
    "    all_results['num_rows'].append(num_rows)\n",
    "\n",
    "total = sum(all_results['num_rows'])\n",
    "print(\"\\nError: \", np.average(all_results['error'], weights=all_results['num_rows']))\n",
    "    "
   ]
  },
  {
   "cell_type": "markdown",
   "id": "a46e96f3",
   "metadata": {},
   "source": [
    "### Video Samples\n",
    "\n",
    "The section below contains some video samples from the test data. We play the video with the correct label (from the trained HMMs) on the left side and the incorrect label on the right side. The first cell displays two different words, while the second two cells display the same word, but with a correct and incorrect label, on the left and right respectively."
   ]
  },
  {
   "cell_type": "code",
   "execution_count": 12,
   "id": "d1dbeff1",
   "metadata": {
    "scrolled": false
   },
   "outputs": [
    {
     "data": {
      "text/html": [
       "<video controls  width=\"360\"  height=\"540\">\n",
       " <source src=\"data:None;base64,video/00001-look-2022_09_21_15_04_44.126-13.mp4\" type=\"None\">\n",
       " Your browser does not support the video tag.\n",
       " </video>"
      ],
      "text/plain": [
       "<IPython.core.display.Video object>"
      ]
     },
     "metadata": {},
     "output_type": "display_data"
    },
    {
     "data": {
      "text/html": [
       "<video controls  width=\"360\"  height=\"540\">\n",
       " <source src=\"data:None;base64,video/00001-talk-2022_09_19_15_42_00.307-5.mp4\" type=\"None\">\n",
       " Your browser does not support the video tag.\n",
       " </video>"
      ],
      "text/plain": [
       "<IPython.core.display.Video object>"
      ]
     },
     "metadata": {},
     "output_type": "display_data"
    },
    {
     "data": {
      "application/vnd.jupyter.widget-view+json": {
       "model_id": "36d0b30afc1a4da0a4ef0ba5f6fb41bd",
       "version_major": 2,
       "version_minor": 0
      },
      "text/plain": [
       "GridspecLayout(children=(Output(layout=Layout(grid_area='widget001')), Output(layout=Layout(grid_area='widget0…"
      ]
     },
     "execution_count": 12,
     "metadata": {},
     "output_type": "execute_result"
    },
    {
     "name": "stdout",
     "output_type": "stream",
     "text": [
      "HERest Complete\n",
      "HERest Complete\n"
     ]
    },
    {
     "name": "stderr",
     "output_type": "stream",
     "text": [
      "\n",
      "\n"
     ]
    },
    {
     "name": "stdout",
     "output_type": "stream",
     "text": [
      "HERest Complete\n",
      "HERest Complete\n"
     ]
    },
    {
     "name": "stderr",
     "output_type": "stream",
     "text": [
      "\n",
      "\n"
     ]
    },
    {
     "name": "stdout",
     "output_type": "stream",
     "text": [
      "HERest Complete\n",
      "HERest Complete\n"
     ]
    },
    {
     "name": "stderr",
     "output_type": "stream",
     "text": [
      "\n",
      "\n",
      "\n"
     ]
    },
    {
     "name": "stdout",
     "output_type": "stream",
     "text": [
      "HERest Complete\n",
      "HERest Complete\n"
     ]
    },
    {
     "name": "stderr",
     "output_type": "stream",
     "text": [
      "\n"
     ]
    },
    {
     "name": "stdout",
     "output_type": "stream",
     "text": [
      "HERest Complete\n"
     ]
    },
    {
     "name": "stderr",
     "output_type": "stream",
     "text": [
      "\n"
     ]
    },
    {
     "name": "stdout",
     "output_type": "stream",
     "text": [
      "HERest Complete\n"
     ]
    },
    {
     "name": "stderr",
     "output_type": "stream",
     "text": [
      "\n"
     ]
    },
    {
     "name": "stdout",
     "output_type": "stream",
     "text": [
      "HERest Complete\n",
      "HERest Complete\n",
      "HERest Complete\n"
     ]
    },
    {
     "name": "stderr",
     "output_type": "stream",
     "text": [
      "\n",
      "\n",
      "\n"
     ]
    },
    {
     "name": "stdout",
     "output_type": "stream",
     "text": [
      "HERest Complete\n",
      "HERest Complete\n"
     ]
    },
    {
     "name": "stderr",
     "output_type": "stream",
     "text": [
      "\n",
      "\n"
     ]
    },
    {
     "name": "stdout",
     "output_type": "stream",
     "text": [
      "HERest Complete\n"
     ]
    },
    {
     "name": "stderr",
     "output_type": "stream",
     "text": [
      "\n"
     ]
    },
    {
     "name": "stdout",
     "output_type": "stream",
     "text": [
      "HERest Complete\n",
      "HERest Complete\n"
     ]
    },
    {
     "name": "stderr",
     "output_type": "stream",
     "text": [
      "\n",
      "\n"
     ]
    },
    {
     "name": "stdout",
     "output_type": "stream",
     "text": [
      "HERest Complete\n"
     ]
    },
    {
     "name": "stderr",
     "output_type": "stream",
     "text": [
      "\n"
     ]
    },
    {
     "name": "stdout",
     "output_type": "stream",
     "text": [
      "HERest Complete\n"
     ]
    },
    {
     "name": "stderr",
     "output_type": "stream",
     "text": [
      "\n"
     ]
    }
   ],
   "source": [
    "## Look is displayed on the left and is labeled correctly by the HMM (which is shown below)\n",
    "## Talk is displayed on the right and is labeled incorrect by the HMM (which is shown below)\n",
    "\n",
    "from ipywidgets import Output, GridspecLayout\n",
    "from IPython import display\n",
    "\n",
    "videos = [\n",
    "    'split/00001-look-2022_09_21_15_04_44.126-13.mp4',\n",
    "    'split/00001-talk-2022_09_19_15_42_00.307-5.mp4'\n",
    "]\n",
    "grid = GridspecLayout(1, len(videos))\n",
    "\n",
    "for i, videopath in enumerate(videos):\n",
    "    out = Output()\n",
    "    with out:\n",
    "        display.display(display.Video(videopath, embed=True, height=540, width=360))\n",
    "    grid[0,i] = out\n",
    "\n",
    "grid\n",
    "    "
   ]
  },
  {
   "cell_type": "code",
   "execution_count": null,
   "id": "2e098f39",
   "metadata": {},
   "outputs": [],
   "source": []
  }
 ],
 "metadata": {
  "kernelspec": {
   "display_name": "Python 3 (ipykernel)",
   "language": "python",
   "name": "python3"
  },
  "language_info": {
   "codemirror_mode": {
    "name": "ipython",
    "version": 3
   },
   "file_extension": ".py",
   "mimetype": "text/x-python",
   "name": "python",
   "nbconvert_exporter": "python",
   "pygments_lexer": "ipython3",
   "version": "3.8.13"
  }
 },
 "nbformat": 4,
 "nbformat_minor": 5
}
